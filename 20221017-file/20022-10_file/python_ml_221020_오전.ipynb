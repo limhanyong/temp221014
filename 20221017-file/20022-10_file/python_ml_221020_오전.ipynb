{
  "nbformat": 4,
  "nbformat_minor": 0,
  "metadata": {
    "colab": {
      "provenance": []
    },
    "kernelspec": {
      "name": "python3",
      "display_name": "Python 3"
    },
    "language_info": {
      "name": "python"
    }
  },
  "cells": [
    {
      "cell_type": "markdown",
      "source": [
        "## 교차검증 & 샘플링 & 그리드 서치\n",
        "- 정확하다! 정확도를 올린다! (X)\n",
        "- Accuracy Better Model (X) \n",
        "- Accuracy Stable Model (O)"
      ],
      "metadata": {
        "id": "Y44HApCJxBpp"
      }
    },
    {
      "cell_type": "code",
      "execution_count": null,
      "metadata": {
        "id": "hVoUW8IFw_im"
      },
      "outputs": [],
      "source": [
        "import pandas as pd\n",
        "wine = pd.read_csv('https://bit.ly/wine_csv_data') "
      ]
    },
    {
      "cell_type": "markdown",
      "source": [
        "### Input & Target로 1차 분리"
      ],
      "metadata": {
        "id": "MWvCuoVxyhIo"
      }
    },
    {
      "cell_type": "code",
      "source": [
        "data = wine[['alcohol', 'sugar', 'pH']].to_numpy()\n",
        "target = wine['class'].to_numpy() "
      ],
      "metadata": {
        "id": "tS_W79Znygph"
      },
      "execution_count": null,
      "outputs": []
    },
    {
      "cell_type": "markdown",
      "source": [
        "### 세트 분리\n",
        "- 기존) : train/test 세트로 분리\n",
        "- 지금) : train/valid/test 세트로 분리"
      ],
      "metadata": {
        "id": "LK9JZZcSy9a8"
      }
    },
    {
      "cell_type": "markdown",
      "source": [
        "- train/test 8:2로 분리"
      ],
      "metadata": {
        "id": "J-vTKiOlzVR_"
      }
    },
    {
      "cell_type": "code",
      "source": [
        "from sklearn.model_selection import train_test_split \n",
        "train_input, test_input, train_target, test_target = train_test_split(\n",
        "    data, target, test_size=0.2, random_state=42\n",
        ")\n",
        "\n",
        "train_input.shape, test_input.shape, train_target.shape, test_target.shape"
      ],
      "metadata": {
        "colab": {
          "base_uri": "https://localhost:8080/"
        },
        "id": "B10y08_bysHw",
        "outputId": "0d81b4e6-5e22-46c2-9fbc-b615546fd18a"
      },
      "execution_count": null,
      "outputs": [
        {
          "output_type": "execute_result",
          "data": {
            "text/plain": [
              "((5197, 3), (1300, 3), (5197,), (1300,))"
            ]
          },
          "metadata": {},
          "execution_count": 3
        }
      ]
    },
    {
      "cell_type": "code",
      "source": [
        "sub_input, val_input, sub_target, val_target = train_test_split(\n",
        "    train_input, train_target, test_size = 0.2, random_state=42\n",
        ")\n",
        "\n",
        "sub_input.shape, val_input.shape, sub_target.shape, val_target.shape"
      ],
      "metadata": {
        "colab": {
          "base_uri": "https://localhost:8080/"
        },
        "id": "fs6t12miztnk",
        "outputId": "7b9acbce-56e7-46ec-f6a5-dcada487fed6"
      },
      "execution_count": null,
      "outputs": [
        {
          "output_type": "execute_result",
          "data": {
            "text/plain": [
              "((4157, 3), (1040, 3), (4157,), (1040,))"
            ]
          },
          "metadata": {},
          "execution_count": 5
        }
      ]
    },
    {
      "cell_type": "markdown",
      "source": [
        "- 모형 만들고, 모형 평가\n",
        "  + 기존) test 데이터를 바로 평가 (unseen data) / 미래에 올 데이터\n",
        "  + 지금) val 데이터만 평가"
      ],
      "metadata": {
        "id": "H5ecTv2D0c2c"
      }
    },
    {
      "cell_type": "code",
      "source": [
        "from sklearn.tree import DecisionTreeClassifier\n",
        "\n",
        "dt = DecisionTreeClassifier(random_state=42)\n",
        "dt.fit(sub_input, sub_target)\n",
        "\n",
        "print(dt.score(sub_input, sub_target))\n",
        "print(dt.score(val_input, val_target))"
      ],
      "metadata": {
        "colab": {
          "base_uri": "https://localhost:8080/"
        },
        "id": "wlTQN4-y05T9",
        "outputId": "1b70d33a-5818-477b-ef4e-b3d7c72c1baf"
      },
      "execution_count": null,
      "outputs": [
        {
          "output_type": "stream",
          "name": "stdout",
          "text": [
            "0.9971133028626413\n",
            "0.864423076923077\n"
          ]
        }
      ]
    },
    {
      "cell_type": "markdown",
      "source": [
        "## 교차검증"
      ],
      "metadata": {
        "id": "fj_Z6o9d109g"
      }
    },
    {
      "cell_type": "code",
      "source": [
        "from sklearn.model_selection import cross_validate \n",
        "scores = cross_validate(dt, train_input, train_target)\n",
        "\n",
        "print(scores)"
      ],
      "metadata": {
        "colab": {
          "base_uri": "https://localhost:8080/"
        },
        "id": "pEp1IiBp125I",
        "outputId": "22d4ada4-ab3f-4725-bd84-787988a4bfbc"
      },
      "execution_count": null,
      "outputs": [
        {
          "output_type": "stream",
          "name": "stdout",
          "text": [
            "{'fit_time': array([0.02020931, 0.02327251, 0.02690148, 0.0244596 , 0.01541948]), 'score_time': array([0.01663065, 0.00184655, 0.00144339, 0.00143909, 0.00143433]), 'test_score': array([0.86923077, 0.84615385, 0.87680462, 0.84889317, 0.83541867])}\n"
          ]
        }
      ]
    },
    {
      "cell_type": "code",
      "source": [
        "scores['test_score']"
      ],
      "metadata": {
        "colab": {
          "base_uri": "https://localhost:8080/"
        },
        "id": "B63rCDNl2KdJ",
        "outputId": "2790c31c-3a98-4d3e-9aca-7d0b57269b24"
      },
      "execution_count": null,
      "outputs": [
        {
          "output_type": "execute_result",
          "data": {
            "text/plain": [
              "array([0.86923077, 0.84615385, 0.87680462, 0.84889317, 0.83541867])"
            ]
          },
          "metadata": {},
          "execution_count": 10
        }
      ]
    },
    {
      "cell_type": "code",
      "source": [
        "import numpy as np\n",
        "\n",
        "# 검증 데이터 점수\n",
        "np.mean(scores['test_score'])"
      ],
      "metadata": {
        "colab": {
          "base_uri": "https://localhost:8080/"
        },
        "id": "3X9NUP4L2SIp",
        "outputId": "0f789cb2-8e57-445a-a639-01eab1f4c89b"
      },
      "execution_count": null,
      "outputs": [
        {
          "output_type": "execute_result",
          "data": {
            "text/plain": [
              "0.855300214703487"
            ]
          },
          "metadata": {},
          "execution_count": 12
        }
      ]
    },
    {
      "cell_type": "markdown",
      "source": [
        "- StratifiedKFold 활용\n",
        "  + 통계용어 : 층화추출  (비율에 근거해서 추출하기) \n",
        "- 기존 방법 : 임의 추출 방식 (무작위 방식)\n",
        "- 분류모형\n",
        "  + 분류기준 / 레드와인 갯수, 화이트와인 갯수\n",
        "  \n",
        "\n"
      ],
      "metadata": {
        "id": "zme1NFBL6XaK"
      }
    },
    {
      "cell_type": "code",
      "source": [
        "from sklearn.model_selection import StratifiedKFold \n",
        "scores = cross_validate(dt, train_input, train_target, cv=StratifiedKFold())\n",
        "print(np.mean(scores['test_score']))"
      ],
      "metadata": {
        "colab": {
          "base_uri": "https://localhost:8080/"
        },
        "id": "Iv5d4MAL8fPZ",
        "outputId": "535c01fe-db71-4ca1-d6ac-a07c4306c9b6"
      },
      "execution_count": null,
      "outputs": [
        {
          "output_type": "stream",
          "name": "stdout",
          "text": [
            "0.855300214703487\n"
          ]
        }
      ]
    },
    {
      "cell_type": "markdown",
      "source": [
        "- StratifiedKFold() 세부 옵션 지정"
      ],
      "metadata": {
        "id": "DdQsb0ju85kj"
      }
    },
    {
      "cell_type": "code",
      "source": [
        "# n_splits : 몇번 교차 검증 할건지 숫자 10\n",
        "splitter = StratifiedKFold(n_splits=10, shuffle=True, random_state=42)\n",
        "scores = cross_validate(dt, train_input, train_target, cv=splitter)\n",
        "print(np.mean(scores['test_score']))"
      ],
      "metadata": {
        "colab": {
          "base_uri": "https://localhost:8080/"
        },
        "id": "wqZg5_vb89aK",
        "outputId": "8a539d8e-c154-43a8-8513-75421f45dff9"
      },
      "execution_count": null,
      "outputs": [
        {
          "output_type": "stream",
          "name": "stdout",
          "text": [
            "0.8574181117533719\n"
          ]
        }
      ]
    },
    {
      "cell_type": "markdown",
      "source": [
        "## 하이퍼파라미터의 개념\n",
        "- 기존) 수동으로 조정, 하나씩 값을 확인하는 형태\n",
        "  - ridge(), Lasso(), alpha값 조정\n",
        "  - decision tree, max_depth 값 조정\n",
        "\n",
        "- 지금) 자동화개발 --> 머신러닝 엔지니어"
      ],
      "metadata": {
        "id": "ihi5rqtn9eBO"
      }
    },
    {
      "cell_type": "code",
      "source": [
        "from sklearn.model_selection import GridSearchCV\n",
        "\n",
        "# 모형 만들기\n",
        "dt = DecisionTreeClassifier(random_state=42)\n",
        "\n",
        "# 하이퍼파라미터 투입\n",
        "params = {'max_depth' : [2, 3, 4, 5, 6, 7]}\n",
        "gs = GridSearchCV(dt, params, n_jobs=-1)\n",
        "\n",
        "# 모형 학습 --> 7번 수행\n",
        "gs.fit(train_input, train_target)"
      ],
      "metadata": {
        "colab": {
          "base_uri": "https://localhost:8080/"
        },
        "id": "cvpm6rqT-jDn",
        "outputId": "d1dba240-11db-4873-e011-3cd80aac0968"
      },
      "execution_count": null,
      "outputs": [
        {
          "output_type": "execute_result",
          "data": {
            "text/plain": [
              "GridSearchCV(estimator=DecisionTreeClassifier(random_state=42), n_jobs=-1,\n",
              "             param_grid={'max_depth': [2, 3, 4, 5, 6, 7]})"
            ]
          },
          "metadata": {},
          "execution_count": 15
        }
      ]
    },
    {
      "cell_type": "markdown",
      "source": [
        "- 가장 최적화된 max_depth 확인"
      ],
      "metadata": {
        "id": "7cFU947-_WAp"
      }
    },
    {
      "cell_type": "code",
      "source": [
        "print(gs.best_params_)"
      ],
      "metadata": {
        "colab": {
          "base_uri": "https://localhost:8080/"
        },
        "id": "5iFK4iJz_Zhz",
        "outputId": "c7284091-15b0-47ce-fbae-dc78c667c00a"
      },
      "execution_count": null,
      "outputs": [
        {
          "output_type": "stream",
          "name": "stdout",
          "text": [
            "{'max_depth': 5}\n"
          ]
        }
      ]
    },
    {
      "cell_type": "code",
      "source": [
        "best_dt = gs.best_estimator_ \n",
        "print(best_dt.score(train_input, train_target))"
      ],
      "metadata": {
        "colab": {
          "base_uri": "https://localhost:8080/"
        },
        "id": "KBPhKjx0_jkz",
        "outputId": "5461f816-477a-438f-8dc5-9ada37d781f0"
      },
      "execution_count": null,
      "outputs": [
        {
          "output_type": "stream",
          "name": "stdout",
          "text": [
            "0.8672310948624207\n"
          ]
        }
      ]
    },
    {
      "cell_type": "code",
      "source": [
        "gs.cv_results_['mean_test_score']\n",
        "\n",
        "result = pd.DataFrame({\n",
        "    'max_depth' : [2, 3, 4, 5, 6, 7], \n",
        "    'score' : gs.cv_results_['mean_test_score']\n",
        "})\n",
        "\n",
        "result"
      ],
      "metadata": {
        "colab": {
          "base_uri": "https://localhost:8080/",
          "height": 238
        },
        "id": "aYz4Z2h4_6hT",
        "outputId": "58b92f63-b163-43db-83a9-1aad3b182f7f"
      },
      "execution_count": null,
      "outputs": [
        {
          "output_type": "execute_result",
          "data": {
            "text/plain": [
              "   max_depth     score\n",
              "0          2  0.813936\n",
              "1          3  0.841256\n",
              "2          4  0.853378\n",
              "3          5  0.857804\n",
              "4          6  0.855880\n",
              "5          7  0.855301"
            ],
            "text/html": [
              "\n",
              "  <div id=\"df-37a22272-0160-48c6-89fc-9f84e5959fec\">\n",
              "    <div class=\"colab-df-container\">\n",
              "      <div>\n",
              "<style scoped>\n",
              "    .dataframe tbody tr th:only-of-type {\n",
              "        vertical-align: middle;\n",
              "    }\n",
              "\n",
              "    .dataframe tbody tr th {\n",
              "        vertical-align: top;\n",
              "    }\n",
              "\n",
              "    .dataframe thead th {\n",
              "        text-align: right;\n",
              "    }\n",
              "</style>\n",
              "<table border=\"1\" class=\"dataframe\">\n",
              "  <thead>\n",
              "    <tr style=\"text-align: right;\">\n",
              "      <th></th>\n",
              "      <th>max_depth</th>\n",
              "      <th>score</th>\n",
              "    </tr>\n",
              "  </thead>\n",
              "  <tbody>\n",
              "    <tr>\n",
              "      <th>0</th>\n",
              "      <td>2</td>\n",
              "      <td>0.813936</td>\n",
              "    </tr>\n",
              "    <tr>\n",
              "      <th>1</th>\n",
              "      <td>3</td>\n",
              "      <td>0.841256</td>\n",
              "    </tr>\n",
              "    <tr>\n",
              "      <th>2</th>\n",
              "      <td>4</td>\n",
              "      <td>0.853378</td>\n",
              "    </tr>\n",
              "    <tr>\n",
              "      <th>3</th>\n",
              "      <td>5</td>\n",
              "      <td>0.857804</td>\n",
              "    </tr>\n",
              "    <tr>\n",
              "      <th>4</th>\n",
              "      <td>6</td>\n",
              "      <td>0.855880</td>\n",
              "    </tr>\n",
              "    <tr>\n",
              "      <th>5</th>\n",
              "      <td>7</td>\n",
              "      <td>0.855301</td>\n",
              "    </tr>\n",
              "  </tbody>\n",
              "</table>\n",
              "</div>\n",
              "      <button class=\"colab-df-convert\" onclick=\"convertToInteractive('df-37a22272-0160-48c6-89fc-9f84e5959fec')\"\n",
              "              title=\"Convert this dataframe to an interactive table.\"\n",
              "              style=\"display:none;\">\n",
              "        \n",
              "  <svg xmlns=\"http://www.w3.org/2000/svg\" height=\"24px\"viewBox=\"0 0 24 24\"\n",
              "       width=\"24px\">\n",
              "    <path d=\"M0 0h24v24H0V0z\" fill=\"none\"/>\n",
              "    <path d=\"M18.56 5.44l.94 2.06.94-2.06 2.06-.94-2.06-.94-.94-2.06-.94 2.06-2.06.94zm-11 1L8.5 8.5l.94-2.06 2.06-.94-2.06-.94L8.5 2.5l-.94 2.06-2.06.94zm10 10l.94 2.06.94-2.06 2.06-.94-2.06-.94-.94-2.06-.94 2.06-2.06.94z\"/><path d=\"M17.41 7.96l-1.37-1.37c-.4-.4-.92-.59-1.43-.59-.52 0-1.04.2-1.43.59L10.3 9.45l-7.72 7.72c-.78.78-.78 2.05 0 2.83L4 21.41c.39.39.9.59 1.41.59.51 0 1.02-.2 1.41-.59l7.78-7.78 2.81-2.81c.8-.78.8-2.07 0-2.86zM5.41 20L4 18.59l7.72-7.72 1.47 1.35L5.41 20z\"/>\n",
              "  </svg>\n",
              "      </button>\n",
              "      \n",
              "  <style>\n",
              "    .colab-df-container {\n",
              "      display:flex;\n",
              "      flex-wrap:wrap;\n",
              "      gap: 12px;\n",
              "    }\n",
              "\n",
              "    .colab-df-convert {\n",
              "      background-color: #E8F0FE;\n",
              "      border: none;\n",
              "      border-radius: 50%;\n",
              "      cursor: pointer;\n",
              "      display: none;\n",
              "      fill: #1967D2;\n",
              "      height: 32px;\n",
              "      padding: 0 0 0 0;\n",
              "      width: 32px;\n",
              "    }\n",
              "\n",
              "    .colab-df-convert:hover {\n",
              "      background-color: #E2EBFA;\n",
              "      box-shadow: 0px 1px 2px rgba(60, 64, 67, 0.3), 0px 1px 3px 1px rgba(60, 64, 67, 0.15);\n",
              "      fill: #174EA6;\n",
              "    }\n",
              "\n",
              "    [theme=dark] .colab-df-convert {\n",
              "      background-color: #3B4455;\n",
              "      fill: #D2E3FC;\n",
              "    }\n",
              "\n",
              "    [theme=dark] .colab-df-convert:hover {\n",
              "      background-color: #434B5C;\n",
              "      box-shadow: 0px 1px 3px 1px rgba(0, 0, 0, 0.15);\n",
              "      filter: drop-shadow(0px 1px 2px rgba(0, 0, 0, 0.3));\n",
              "      fill: #FFFFFF;\n",
              "    }\n",
              "  </style>\n",
              "\n",
              "      <script>\n",
              "        const buttonEl =\n",
              "          document.querySelector('#df-37a22272-0160-48c6-89fc-9f84e5959fec button.colab-df-convert');\n",
              "        buttonEl.style.display =\n",
              "          google.colab.kernel.accessAllowed ? 'block' : 'none';\n",
              "\n",
              "        async function convertToInteractive(key) {\n",
              "          const element = document.querySelector('#df-37a22272-0160-48c6-89fc-9f84e5959fec');\n",
              "          const dataTable =\n",
              "            await google.colab.kernel.invokeFunction('convertToInteractive',\n",
              "                                                     [key], {});\n",
              "          if (!dataTable) return;\n",
              "\n",
              "          const docLinkHtml = 'Like what you see? Visit the ' +\n",
              "            '<a target=\"_blank\" href=https://colab.research.google.com/notebooks/data_table.ipynb>data table notebook</a>'\n",
              "            + ' to learn more about interactive tables.';\n",
              "          element.innerHTML = '';\n",
              "          dataTable['output_type'] = 'display_data';\n",
              "          await google.colab.output.renderOutput(dataTable, element);\n",
              "          const docLink = document.createElement('div');\n",
              "          docLink.innerHTML = docLinkHtml;\n",
              "          element.appendChild(docLink);\n",
              "        }\n",
              "      </script>\n",
              "    </div>\n",
              "  </div>\n",
              "  "
            ]
          },
          "metadata": {},
          "execution_count": 20
        }
      ]
    },
    {
      "cell_type": "code",
      "source": [
        "# 하이퍼파라미터 투입\n",
        "params = {'max_depth' : [2, 3, 4, 5, 6, 7], \n",
        "          # 노드 분할 시, 불순도 감소 최저량 지정\n",
        "          'min_impurity_decrease' : np.arange(0.0001, 0.001, 0.01), \n",
        "          'min_samples_split' : range(2, 1000, 10)\n",
        "          } \n",
        "\n",
        "gs = GridSearchCV(dt, params, n_jobs=-1)\n",
        "\n",
        "# 모형 학습 --> 7번 수행\n",
        "gs.fit(train_input, train_target)\n",
        "\n",
        "print(gs.best_params_)\n",
        "\n",
        "best_dt = gs.best_estimator_ \n",
        "print(best_dt.score(train_input, train_target))"
      ],
      "metadata": {
        "colab": {
          "base_uri": "https://localhost:8080/"
        },
        "id": "wOK-hVODBEbu",
        "outputId": "976f15f3-f682-4a5a-9f9b-ace063ff62e9"
      },
      "execution_count": null,
      "outputs": [
        {
          "output_type": "stream",
          "name": "stdout",
          "text": [
            "{'max_depth': 7, 'min_impurity_decrease': 0.0001, 'min_samples_split': 92}\n",
            "0.8793534731575909\n"
          ]
        }
      ]
    },
    {
      "cell_type": "markdown",
      "source": [
        "## 랜덤 서치\n",
        "- 매개변수 값의 목록을 전달하는 것이 아님\n",
        "- 매개변수가 샘플링할 수 있는 객체를 전달. "
      ],
      "metadata": {
        "id": "yCJeSF6hICwI"
      }
    },
    {
      "cell_type": "code",
      "source": [
        "from scipy.stats import uniform, randint \n",
        "\n",
        "rgen = randint(0, 10)\n",
        "np.unique(rgen.rvs(100), return_counts = True)"
      ],
      "metadata": {
        "colab": {
          "base_uri": "https://localhost:8080/"
        },
        "id": "gPt7sGp-IonR",
        "outputId": "b92cd1f2-c788-4719-d854-e972aaf8b9bf"
      },
      "execution_count": null,
      "outputs": [
        {
          "output_type": "execute_result",
          "data": {
            "text/plain": [
              "(array([0, 1, 2, 3, 4, 5, 6, 7, 8, 9]),\n",
              " array([10, 12, 10,  9,  7,  9, 14,  9, 10, 10]))"
            ]
          },
          "metadata": {},
          "execution_count": 26
        }
      ]
    },
    {
      "cell_type": "markdown",
      "source": [
        "- 실수 무작위 추출"
      ],
      "metadata": {
        "id": "NThoqZ0PJN0z"
      }
    },
    {
      "cell_type": "code",
      "source": [
        "ugen = uniform(0, 1)\n",
        "ugen.rvs(10)"
      ],
      "metadata": {
        "colab": {
          "base_uri": "https://localhost:8080/"
        },
        "id": "JiPSWdicJPKr",
        "outputId": "aef8164a-a86c-4ecb-dc10-7e1d307613a8"
      },
      "execution_count": null,
      "outputs": [
        {
          "output_type": "execute_result",
          "data": {
            "text/plain": [
              "array([0.01442643, 0.67060463, 0.92857047, 0.97483125, 0.4672572 ,\n",
              "       0.8128321 , 0.77896938, 0.59550719, 0.18544863, 0.60533842])"
            ]
          },
          "metadata": {},
          "execution_count": 27
        }
      ]
    },
    {
      "cell_type": "code",
      "source": [
        "from sklearn.model_selection import RandomizedSearchCV \n",
        "\n",
        "# 하이퍼파라미터 투입\n",
        "params = {'max_depth' : randint(2, 50), \n",
        "          # 노드 분할 시, 불순도 감소 최저량 지정\n",
        "          'min_impurity_decrease' : uniform(0.0001, 0.1), \n",
        "          'min_samples_split' : randint(2, 50), \n",
        "          }\n",
        "\n",
        "# 모형 만들기\n",
        "dt = DecisionTreeClassifier(random_state=42)\n",
        "\n",
        "# 랜덤서치\n",
        "rs = RandomizedSearchCV(dt, params, n_iter = 100, random_state=42, n_jobs=-1)\n",
        "\n",
        "rs.fit(train_input, train_target) "
      ],
      "metadata": {
        "id": "Mn3zO3geJZgr",
        "colab": {
          "base_uri": "https://localhost:8080/"
        },
        "outputId": "da91b884-6761-416e-bbc0-762d2b402726"
      },
      "execution_count": 29,
      "outputs": [
        {
          "output_type": "execute_result",
          "data": {
            "text/plain": [
              "RandomizedSearchCV(estimator=DecisionTreeClassifier(random_state=42),\n",
              "                   n_iter=100, n_jobs=-1,\n",
              "                   param_distributions={'max_depth': <scipy.stats._distn_infrastructure.rv_frozen object at 0x7faecf721690>,\n",
              "                                        'min_impurity_decrease': <scipy.stats._distn_infrastructure.rv_frozen object at 0x7faecf721ed0>,\n",
              "                                        'min_samples_split': <scipy.stats._distn_infrastructure.rv_frozen object at 0x7faecf6ad290>},\n",
              "                   random_state=42)"
            ]
          },
          "metadata": {},
          "execution_count": 29
        }
      ]
    },
    {
      "cell_type": "code",
      "source": [
        "print(rs.best_params_)\n",
        "\n",
        "best_dt = rs.best_estimator_ \n",
        "print(best_dt.score(train_input, train_target))"
      ],
      "metadata": {
        "colab": {
          "base_uri": "https://localhost:8080/"
        },
        "id": "7lzfwPDjKjBc",
        "outputId": "645db140-903a-4e98-8a50-24dbdb864de8"
      },
      "execution_count": 30,
      "outputs": [
        {
          "output_type": "stream",
          "name": "stdout",
          "text": [
            "{'max_depth': 39, 'min_impurity_decrease': 0.00017787658410143285, 'min_samples_split': 22}\n",
            "0.9053299980758129\n"
          ]
        }
      ]
    }
  ]
}
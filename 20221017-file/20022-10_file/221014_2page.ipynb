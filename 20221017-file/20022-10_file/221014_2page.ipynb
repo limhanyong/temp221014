{
  "nbformat": 4,
  "nbformat_minor": 0,
  "metadata": {
    "colab": {
      "provenance": []
    },
    "kernelspec": {
      "name": "python3",
      "display_name": "Python 3"
    },
    "language_info": {
      "name": "python"
    }
  },
  "cells": [
    {
      "cell_type": "code",
      "execution_count": null,
      "metadata": {
        "id": "ML-8H4920PFn"
      },
      "outputs": [],
      "source": [
        "import numpy as np"
      ]
    },
    {
      "cell_type": "code",
      "source": [
        "a=[1,2,3,4,5]\n",
        "b=np.array(a)\n",
        "c=np.array([1,3,5])\n",
        "print(a)\n",
        "print(b)\n",
        "print(c)"
      ],
      "metadata": {
        "colab": {
          "base_uri": "https://localhost:8080/"
        },
        "id": "oTk0zUtW1IEZ",
        "outputId": "0cc02cea-351b-4ca4-fa65-08b691995c87"
      },
      "execution_count": null,
      "outputs": [
        {
          "output_type": "stream",
          "name": "stdout",
          "text": [
            "[1, 2, 3, 4, 5]\n",
            "[1 2 3 4 5]\n",
            "[1 3 5]\n"
          ]
        }
      ]
    },
    {
      "cell_type": "code",
      "source": [
        "b=a\n",
        "c=a.copy()\n",
        "b[0]=99\n",
        "print(a)\n",
        "print(b)\n",
        "print(c)"
      ],
      "metadata": {
        "colab": {
          "base_uri": "https://localhost:8080/"
        },
        "id": "bHN9T9Ul1eWa",
        "outputId": "e381af2d-ffd8-4ab7-825e-a501cde33829"
      },
      "execution_count": null,
      "outputs": [
        {
          "output_type": "stream",
          "name": "stdout",
          "text": [
            "[99, 2, 3, 4, 5]\n",
            "[99, 2, 3, 4, 5]\n",
            "[1, 2, 3, 4, 5]\n"
          ]
        }
      ]
    },
    {
      "cell_type": "code",
      "source": [],
      "metadata": {
        "id": "tG_Ui-tTEY6D"
      },
      "execution_count": null,
      "outputs": []
    },
    {
      "cell_type": "code",
      "source": [
        "print(b[2])\n",
        "print(a[2])\n",
        "print(c[-1])\n",
        "print(b[0:2])\n"
      ],
      "metadata": {
        "colab": {
          "base_uri": "https://localhost:8080/"
        },
        "id": "zYvZVGKu6MJl",
        "outputId": "5a5683c1-b68c-4a9e-e646-fc781ff3625e"
      },
      "execution_count": null,
      "outputs": [
        {
          "output_type": "stream",
          "name": "stdout",
          "text": [
            "3\n",
            "3\n",
            "5\n",
            "[99, 2]\n"
          ]
        }
      ]
    },
    {
      "cell_type": "code",
      "source": [
        "a=[1,2,3,4,5]\n",
        "b=np.array(a)\n",
        "c=np.array([1,3,5])\n",
        "print(a*2)\n",
        "print(b*2)\n",
        "print(c+3)"
      ],
      "metadata": {
        "colab": {
          "base_uri": "https://localhost:8080/"
        },
        "id": "juoGMYNl6vTP",
        "outputId": "8b1de818-13d6-48d0-d1be-26631be89187"
      },
      "execution_count": null,
      "outputs": [
        {
          "output_type": "stream",
          "name": "stdout",
          "text": [
            "[1, 2, 3, 4, 5, 1, 2, 3, 4, 5]\n",
            "[ 2  4  6  8 10]\n",
            "[4 6 8]\n"
          ]
        }
      ]
    },
    {
      "cell_type": "code",
      "source": [
        "a=np.array([1,2,3],dtype=int)\n",
        "b=np.array([1,1,2,2,3,3],dtype=float)\n",
        "a1=np.array([1,2,3],dtype=float)\n",
        "c=np.array([1,1,0],dtype=bool)\n",
        "print(a)\n",
        "print(b)\n",
        "print(a1)\n",
        "print(c)\n",
        "print()"
      ],
      "metadata": {
        "colab": {
          "base_uri": "https://localhost:8080/"
        },
        "id": "XAm8TEt98pIP",
        "outputId": "f3412020-7b26-47a8-c413-333f81204add"
      },
      "execution_count": null,
      "outputs": [
        {
          "output_type": "stream",
          "name": "stdout",
          "text": [
            "[1 2 3]\n",
            "[1. 1. 2. 2. 3. 3.]\n",
            "[1. 2. 3.]\n",
            "[ True  True False]\n"
          ]
        }
      ]
    },
    {
      "cell_type": "markdown",
      "source": [
        "b=np.array([[[1,2],[3,4],[100,101,12]]])\n",
        "print(b)"
      ],
      "metadata": {
        "id": "v9X6-NjCBf_I"
      }
    },
    {
      "cell_type": "code",
      "source": [
        "a=np.identity(10,dtype=int)\n",
        "b=np.eye(7,7, k=+2,dtype=int)\n",
        "c=np.eye(7,7, k=-2,dtype=int)\n",
        "print(a)\n",
        "print('\\n\\n')\n",
        "print(b)\n",
        "print('\\n\\n')\n",
        "print(c)\n"
      ],
      "metadata": {
        "colab": {
          "base_uri": "https://localhost:8080/"
        },
        "id": "wSa68p1QLLXV",
        "outputId": "cce600ee-8377-46d5-f8f1-ce813db9dd0f"
      },
      "execution_count": null,
      "outputs": [
        {
          "output_type": "stream",
          "name": "stdout",
          "text": [
            "[[1 0 0 0 0 0 0 0 0 0]\n",
            " [0 1 0 0 0 0 0 0 0 0]\n",
            " [0 0 1 0 0 0 0 0 0 0]\n",
            " [0 0 0 1 0 0 0 0 0 0]\n",
            " [0 0 0 0 1 0 0 0 0 0]\n",
            " [0 0 0 0 0 1 0 0 0 0]\n",
            " [0 0 0 0 0 0 1 0 0 0]\n",
            " [0 0 0 0 0 0 0 1 0 0]\n",
            " [0 0 0 0 0 0 0 0 1 0]\n",
            " [0 0 0 0 0 0 0 0 0 1]]\n",
            "\n",
            "\n",
            "\n",
            "[[0 0 1 0 0 0 0]\n",
            " [0 0 0 1 0 0 0]\n",
            " [0 0 0 0 1 0 0]\n",
            " [0 0 0 0 0 1 0]\n",
            " [0 0 0 0 0 0 1]\n",
            " [0 0 0 0 0 0 0]\n",
            " [0 0 0 0 0 0 0]]\n",
            "\n",
            "\n",
            "\n",
            "[[0 0 0 0 0 0 0]\n",
            " [0 0 0 0 0 0 0]\n",
            " [1 0 0 0 0 0 0]\n",
            " [0 1 0 0 0 0 0]\n",
            " [0 0 1 0 0 0 0]\n",
            " [0 0 0 1 0 0 0]\n",
            " [0 0 0 0 1 0 0]]\n"
          ]
        }
      ]
    },
    {
      "cell_type": "code",
      "source": [
        "a = np.arange(0, 10, step=5)\n",
        "b = np.arange(1, 10, step=5)\n",
        "c = np.arange(0, 10, step=1)\n",
        "d = np.arange(0, 10, step=3)\n",
        "\n",
        "print(a)\n",
        "print(b)\n",
        "print(c)\n",
        "print(d)"
      ],
      "metadata": {
        "colab": {
          "base_uri": "https://localhost:8080/"
        },
        "id": "T89yOAvtOSck",
        "outputId": "cd4c783e-5320-4b7f-ebda-3ffc6de501b2"
      },
      "execution_count": null,
      "outputs": [
        {
          "output_type": "stream",
          "name": "stdout",
          "text": [
            "[0 5]\n",
            "[1 6]\n",
            "[0 1 2 3 4 5 6 7 8 9]\n",
            "[0 3 6 9]\n"
          ]
        }
      ]
    },
    {
      "cell_type": "code",
      "source": [
        "a = np.linspace(0, 10, num=5, endpoint=True, retstep=True)\n",
        "b = np.linspace(1, 10, num=5, endpoint=True, retstep=False)\n",
        "c = np.linspace(0, 10, num=5, endpoint=False, retstep=False)\n",
        "\n",
        "print(a)\n",
        "print(b)\n",
        "print(c)"
      ],
      "metadata": {
        "colab": {
          "base_uri": "https://localhost:8080/"
        },
        "id": "-lvCHMayVnr7",
        "outputId": "5c5e57fb-268d-43d1-de6d-38dd1b165ed6"
      },
      "execution_count": null,
      "outputs": [
        {
          "output_type": "stream",
          "name": "stdout",
          "text": [
            "(array([ 0. ,  2.5,  5. ,  7.5, 10. ]), 2.5)\n",
            "[ 1.    3.25  5.5   7.75 10.  ]\n",
            "[0. 2. 4. 6. 8.]\n"
          ]
        }
      ]
    },
    {
      "cell_type": "code",
      "source": [
        "a = np.array([1, 2, 3, 4, 5])\n",
        "\n",
        "print(a)\n",
        "print(\"\\n\")\n",
        "print(a[3:])\n",
        "print(\"\\n\")\n",
        "print(a[1:-1]) \n",
        "print(\"\\n\")\n",
        "print(a[0:3:2])\n"
      ],
      "metadata": {
        "colab": {
          "base_uri": "https://localhost:8080/"
        },
        "id": "DyiedgJkZDy5",
        "outputId": "00893e62-28d8-42db-96d9-b1153268c783"
      },
      "execution_count": null,
      "outputs": [
        {
          "output_type": "stream",
          "name": "stdout",
          "text": [
            "[1 2 3 4 5]\n",
            "\n",
            "\n",
            "[4 5]\n",
            "\n",
            "\n",
            "[2 3 4]\n",
            "\n",
            "\n",
            "[1 3]\n"
          ]
        }
      ]
    },
    {
      "cell_type": "code",
      "source": [
        "a=np.array([1,2,3,4,5,6,7,8,9,10,11,12])\n",
        "print(a[0:8:3])"
      ],
      "metadata": {
        "colab": {
          "base_uri": "https://localhost:8080/"
        },
        "id": "yVvuCGbUKb0q",
        "outputId": "908a2d13-15af-48f2-8698-fe63ec5c3652"
      },
      "execution_count": null,
      "outputs": [
        {
          "output_type": "stream",
          "name": "stdout",
          "text": [
            "[1 4 7]\n"
          ]
        }
      ]
    },
    {
      "cell_type": "code",
      "source": [
        "a = np.array([\n",
        "    [1, 2, 3, 4],\n",
        "    [5, 6, 7, 8],\n",
        "    [9, 10, 11, 12]])\n",
        "a.shape = (6,2)\n",
        "print(a)\n"
      ],
      "metadata": {
        "colab": {
          "base_uri": "https://localhost:8080/"
        },
        "id": "W1fty-HkMgmE",
        "outputId": "2ab92ec7-2cb8-4d0c-ae81-5f2e86bdf8f4"
      },
      "execution_count": null,
      "outputs": [
        {
          "output_type": "stream",
          "name": "stdout",
          "text": [
            "[[ 1  2]\n",
            " [ 3  4]\n",
            " [ 5  6]\n",
            " [ 7  8]\n",
            " [ 9 10]\n",
            " [11 12]]\n"
          ]
        }
      ]
    },
    {
      "cell_type": "code",
      "source": [
        "a = np.array([[[1, 2, 3], [4, 5, 6]],\n",
        "              [[7, 8, 9], [10, 11, 12]],\n",
        "              [[13, 14, 15], [16, 17, 18]]])\n",
        "print(a)\n",
        "a.shape = (2,3,3)\n",
        "print(a)"
      ],
      "metadata": {
        "colab": {
          "base_uri": "https://localhost:8080/"
        },
        "id": "3WUkDqkkNlcC",
        "outputId": "25442833-7b31-4c90-e07c-d9ac2d06c674"
      },
      "execution_count": null,
      "outputs": [
        {
          "output_type": "stream",
          "name": "stdout",
          "text": [
            "[[[ 1  2  3]\n",
            "  [ 4  5  6]]\n",
            "\n",
            " [[ 7  8  9]\n",
            "  [10 11 12]]\n",
            "\n",
            " [[13 14 15]\n",
            "  [16 17 18]]]\n",
            "[[[ 1  2  3]\n",
            "  [ 4  5  6]\n",
            "  [ 7  8  9]]\n",
            "\n",
            " [[10 11 12]\n",
            "  [13 14 15]\n",
            "  [16 17 18]]]\n"
          ]
        }
      ]
    },
    {
      "cell_type": "code",
      "source": [
        "a = np.array([\n",
        "    [1, 2, 3],\n",
        "    [4, 5, 6],\n",
        "    [7, 8, 9]])\n",
        "b = np.ones(3, dtype = int)\n",
        "\n",
        "print(a + b)\n",
        "print('+'*40)\n",
        "print(a - b)\n",
        "print('+'*40)\n",
        "print(a * b)\n",
        "print('+'*40)\n",
        "print(a / b)"
      ],
      "metadata": {
        "colab": {
          "base_uri": "https://localhost:8080/"
        },
        "id": "oenSBu-4PXpr",
        "outputId": "8bea9a2d-b0cd-4e91-c76d-5ddff28f7d49"
      },
      "execution_count": null,
      "outputs": [
        {
          "output_type": "stream",
          "name": "stdout",
          "text": [
            "[[ 2  3  4]\n",
            " [ 5  6  7]\n",
            " [ 8  9 10]]\n",
            "++++++++++++++++++++++++++++++++++++++++\n",
            "[[0 1 2]\n",
            " [3 4 5]\n",
            " [6 7 8]]\n",
            "++++++++++++++++++++++++++++++++++++++++\n",
            "[[1 2 3]\n",
            " [4 5 6]\n",
            " [7 8 9]]\n",
            "++++++++++++++++++++++++++++++++++++++++\n",
            "[[1. 2. 3.]\n",
            " [4. 5. 6.]\n",
            " [7. 8. 9.]]\n"
          ]
        }
      ]
    },
    {
      "cell_type": "code",
      "source": [
        "a=np.array([\n",
        "    [1,2,3],\n",
        "    [4,5,6],\n",
        "    [7,8,9]\n",
        "])\n",
        "b=np.array([\n",
        "    [1,2,3],\n",
        "    [4,5,6],\n",
        "    [7,8,9]\n",
        "])\n",
        "\n",
        "print(a*b)"
      ],
      "metadata": {
        "colab": {
          "base_uri": "https://localhost:8080/"
        },
        "id": "LyDNPCcBQxj0",
        "outputId": "87d8c717-2503-48c0-bd05-cdaadf1b4a29"
      },
      "execution_count": null,
      "outputs": [
        {
          "output_type": "stream",
          "name": "stdout",
          "text": [
            "[[ 1  4  9]\n",
            " [16 25 36]\n",
            " [49 64 81]]\n"
          ]
        }
      ]
    },
    {
      "cell_type": "code",
      "source": [
        "a = np.array(\n",
        "    [[1, 2], \n",
        "     [3, 4]])\n",
        "b = np.array(\n",
        "    [[1, 3], \n",
        "     [2, 4]])\n",
        "\n",
        "print(a*b)\n",
        "\n",
        "ma = np.mat(a)\n",
        "mb = np.mat(b)\n",
        "\n",
        "print(ma*mb)"
      ],
      "metadata": {
        "colab": {
          "base_uri": "https://localhost:8080/"
        },
        "id": "Q1GK22P7WT6C",
        "outputId": "af47193f-e22f-413b-9407-b8674a6896e7"
      },
      "execution_count": null,
      "outputs": [
        {
          "output_type": "stream",
          "name": "stdout",
          "text": [
            "[[ 1  6]\n",
            " [ 6 16]]\n",
            "[[ 5 11]\n",
            " [11 25]]\n"
          ]
        }
      ]
    }
  ]
}
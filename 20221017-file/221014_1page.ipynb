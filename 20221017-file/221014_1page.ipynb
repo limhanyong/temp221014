{
  "nbformat": 4,
  "nbformat_minor": 0,
  "metadata": {
    "colab": {
      "provenance": [],
      "collapsed_sections": []
    },
    "kernelspec": {
      "name": "python3",
      "display_name": "Python 3"
    },
    "language_info": {
      "name": "python"
    }
  },
  "cells": [
    {
      "cell_type": "code",
      "execution_count": null,
      "metadata": {
        "colab": {
          "base_uri": "https://localhost:8080/"
        },
        "id": "sqfJULjurn6U",
        "outputId": "8113d5a0-6fed-4eab-c4f1-d79b88e10857"
      },
      "outputs": [
        {
          "output_type": "stream",
          "name": "stdout",
          "text": [
            "35 14\n"
          ]
        }
      ],
      "source": [
        "## 생선 분류 문제\n",
        "#- 도미, 빙어.\n",
        "\n",
        "bream_length = [25.4, 26.3, 26.5, 29.0, 29.0, 29.7, 29.7, 30.0, 30.0, 30.7, 31.0, 31.0, 31.5, 32.0, 32.0, 32.0, 33.0, 33.0, 33.5, 33.5, 34.0, 34.0, 34.5, 35.0, 35.0, 35.0, 35.0, 36.0, 36.0, 37.0, 38.5, 38.5, 39.5, 41.0, 41.0]\n",
        "bream_weight = [242.0, 290.0, 340.0, 363.0, 430.0, 450.0, 500.0, 390.0, 450.0, 500.0, 475.0, 500.0, 500.0, 340.0, 600.0, 600.0, 700.0, 700.0, 610.0, 650.0, 575.0, 685.0, 620.0, 680.0, 700.0, 725.0, 720.0, 714.0, 850.0, 1000.0, 920.0, 955.0, 925.0, 975.0, 950.0]\n",
        "\n",
        "\n",
        "smelt_length = [9.8, 10.5, 10.6, 11.0, 11.2, 11.3, 11.8, 11.8, 12.0, 12.2, 12.4, 13.0, 14.3, 15.0]\n",
        "smelt_weight = [6.7, 7.5, 7.0, 9.7, 9.8, 8.7, 10.0, 9.9, 9.8, 12.2, 13.4, 12.2, 19.7, 19.9]\n",
        "\n",
        "\n",
        "print(len(bream_length), len(smelt_length))"
      ]
    },
    {
      "cell_type": "code",
      "source": [
        "## 데이터 시각화..."
      ],
      "metadata": {
        "id": "IpndUHZlr7lf"
      },
      "execution_count": null,
      "outputs": []
    },
    {
      "cell_type": "code",
      "source": [
        "import matplotlib.pyplot as plt\n",
        "fig, ax = plt.subplots(figsize=(10,6))\n",
        "ax.scatter(bream_length, bream_weight)\n",
        "ax.scatter(smelt_length, smelt_weight)\n",
        "ax.set_xlabel('length')\n",
        "ax.set_ylabel('weight')\n",
        "plt.show()"
      ],
      "metadata": {
        "colab": {
          "base_uri": "https://localhost:8080/",
          "height": 388
        },
        "id": "qj9q6DEcsGrW",
        "outputId": "4c675e42-b447-4c12-e076-6e1ed57ad05d"
      },
      "execution_count": null,
      "outputs": [
        {
          "output_type": "display_data",
          "data": {
            "text/plain": [
              "<Figure size 720x432 with 1 Axes>"
            ],
            "image/png": "[encoded data removed]"
          },
          "metadata": {
            "needs_background": "light"
          }
        }
      ]
    },
    {
      "cell_type": "code",
      "source": [
        "length = bream_length + smelt_length\n",
        "weight = bream_weight + smelt_weight\n",
        "\n",
        "print(len(length), len(weight))"
      ],
      "metadata": {
        "colab": {
          "base_uri": "https://localhost:8080/"
        },
        "id": "oAlBIrMosgfu",
        "outputId": "23043790-c67a-46dd-a3fa-6fdee36e2577"
      },
      "execution_count": null,
      "outputs": [
        {
          "output_type": "stream",
          "name": "stdout",
          "text": [
            "49 49\n"
          ]
        }
      ]
    },
    {
      "cell_type": "code",
      "source": [
        "## List comprehension(리스트 컴프리헨션)\n",
        "# - 반복문(조건문 포함)을 1줄로 처리\n",
        "# - 반환값은 리스트"
      ],
      "metadata": {
        "id": "qiUivildtted"
      },
      "execution_count": null,
      "outputs": []
    },
    {
      "cell_type": "code",
      "source": [
        "temp_text = \"humanEdu\"\n",
        "human_letters = []\n",
        "\n",
        "for letter in temp_text:\n",
        "  human_letters.append(letter)\n",
        "\n",
        "print(human_letters)"
      ],
      "metadata": {
        "colab": {
          "base_uri": "https://localhost:8080/"
        },
        "id": "Xsbl7lIHuLz9",
        "outputId": "5509ef1d-6887-443e-a338-f36908a52e6d"
      },
      "execution_count": null,
      "outputs": [
        {
          "output_type": "stream",
          "name": "stdout",
          "text": [
            "['h', 'u', 'm', 'a', 'n', 'E', 'd', 'u']\n"
          ]
        }
      ]
    },
    {
      "cell_type": "code",
      "source": [
        "temp_text = \"humanEdu\"\n",
        "human_letters = [letter for letter in temp_text]\n",
        "\n",
        "print(human_letters)"
      ],
      "metadata": {
        "colab": {
          "base_uri": "https://localhost:8080/"
        },
        "id": "pmYCi_eguOo9",
        "outputId": "4994ec4c-35b2-448e-9ed6-152761d9d46e"
      },
      "execution_count": null,
      "outputs": [
        {
          "output_type": "stream",
          "name": "stdout",
          "text": [
            "['h', 'u', 'm', 'a', 'n', 'E', 'd', 'u']\n"
          ]
        }
      ]
    },
    {
      "cell_type": "code",
      "source": [
        "fish_data = [[l, w] for l, w in zip(length, weight)]\n",
        "\n",
        "print (fish_data)"
      ],
      "metadata": {
        "colab": {
          "base_uri": "https://localhost:8080/"
        },
        "id": "pd2h-j-9u_3G",
        "outputId": "70a394d9-cab8-4d38-e05d-05dd665b1be8"
      },
      "execution_count": null,
      "outputs": [
        {
          "output_type": "stream",
          "name": "stdout",
          "text": [
            "[[25.4, 242.0], [26.3, 290.0], [26.5, 340.0], [29.0, 363.0], [29.0, 430.0], [29.7, 450.0], [29.7, 500.0], [30.0, 390.0], [30.0, 450.0], [30.7, 500.0], [31.0, 475.0], [31.0, 500.0], [31.5, 500.0], [32.0, 340.0], [32.0, 600.0], [32.0, 600.0], [33.0, 700.0], [33.0, 700.0], [33.5, 610.0], [33.5, 650.0], [34.0, 575.0], [34.0, 685.0], [34.5, 620.0], [35.0, 680.0], [35.0, 700.0], [35.0, 725.0], [35.0, 720.0], [36.0, 714.0], [36.0, 850.0], [37.0, 1000.0], [38.5, 920.0], [38.5, 955.0], [39.5, 925.0], [41.0, 975.0], [41.0, 950.0], [9.8, 6.7], [10.5, 7.5], [10.6, 7.0], [11.0, 9.7], [11.2, 9.8], [11.3, 8.7], [11.8, 10.0], [11.8, 9.9], [12.0, 9.8], [12.2, 12.2], [12.4, 13.4], [13.0, 12.2], [14.3, 19.7], [15.0, 19.9]]\n"
          ]
        }
      ]
    },
    {
      "cell_type": "code",
      "source": [
        "## 지도학습은 라벨이 필요하다..\n",
        "# 종속변수, 타겟변수 (Response variable, Dependent variable)"
      ],
      "metadata": {
        "id": "7T2lZR4NvbMl"
      },
      "execution_count": null,
      "outputs": []
    },
    {
      "cell_type": "code",
      "source": [
        "fish_target = [1] * 35 + [0] * 14\n",
        "print(fish_target)"
      ],
      "metadata": {
        "colab": {
          "base_uri": "https://localhost:8080/"
        },
        "id": "a-wcZjmKvrlW",
        "outputId": "a79c5c4b-b7d1-4c0b-f84f-a4ea25e570fb"
      },
      "execution_count": null,
      "outputs": [
        {
          "output_type": "stream",
          "name": "stdout",
          "text": [
            "[1, 1, 1, 1, 1, 1, 1, 1, 1, 1, 1, 1, 1, 1, 1, 1, 1, 1, 1, 1, 1, 1, 1, 1, 1, 1, 1, 1, 1, 1, 1, 1, 1, 1, 1, 0, 0, 0, 0, 0, 0, 0, 0, 0, 0, 0, 0, 0, 0]\n"
          ]
        }
      ]
    },
    {
      "cell_type": "code",
      "source": [
        "## 머신러닝 모형 구현\n",
        "\n",
        "#- KNN  구현"
      ],
      "metadata": {
        "id": "6sHsJdVZwQOP"
      },
      "execution_count": null,
      "outputs": []
    },
    {
      "cell_type": "code",
      "source": [
        "from sklearn.neighbors import KNeighborsClassifier\n",
        "# 모형 불러오기\n",
        "kn = KNeighborsClassifier()\n",
        "\n",
        "# 모형 학습\n",
        "kn.fit(fish_data, fish_target)\n",
        "\n",
        "\n",
        "# import sklearn\n",
        "# kn = sklearn.neighbors.KNeighborsClassifier  같은 거지만 1번을 지향"
      ],
      "metadata": {
        "colab": {
          "base_uri": "https://localhost:8080/"
        },
        "id": "MobQ79P6zFdX",
        "outputId": "a17eb5bb-05b6-43a4-909c-1cd9f098d742"
      },
      "execution_count": null,
      "outputs": [
        {
          "output_type": "execute_result",
          "data": {
            "text/plain": [
              "KNeighborsClassifier()"
            ]
          },
          "metadata": {},
          "execution_count": 21
        }
      ]
    },
    {
      "cell_type": "code",
      "source": [
        "#모형 평가\n",
        "# 1.0의미 ==> 100% 정확도\n",
        "kn.score(fish_data, fish_target)\n",
        "\n"
      ],
      "metadata": {
        "colab": {
          "base_uri": "https://localhost:8080/"
        },
        "id": "DOq299mTzrGf",
        "outputId": "df1b96bd-612e-4f89-ee03-90e51dc96511"
      },
      "execution_count": null,
      "outputs": [
        {
          "output_type": "execute_result",
          "data": {
            "text/plain": [
              "1.0"
            ]
          },
          "metadata": {},
          "execution_count": 25
        }
      ]
    },
    {
      "cell_type": "code",
      "source": [
        "# 예측 (= 배포)\n",
        "\n",
        "new_data =[[30, 600]]\n",
        "kn.predict(new_data)"
      ],
      "metadata": {
        "colab": {
          "base_uri": "https://localhost:8080/"
        },
        "id": "sO5hZ1U50O6v",
        "outputId": "cb3b0790-ea14-455a-98a6-1eacbc9921cd"
      },
      "execution_count": null,
      "outputs": [
        {
          "output_type": "execute_result",
          "data": {
            "text/plain": [
              "array([1])"
            ]
          },
          "metadata": {},
          "execution_count": 24
        }
      ]
    },
    {
      "cell_type": "code",
      "source": [
        "import matplotlib.pyplot as plt\n",
        "fig, ax = plt.subplots(figsize=(10,6))\n",
        "ax.scatter(bream_length, bream_weight)\n",
        "ax.scatter(smelt_length, smelt_weight)\n",
        "\n",
        "ax.scatter(30, 600, marker = '^')\n",
        "\n",
        "ax.set_xlabel('length')\n",
        "ax.set_ylabel('weight')\n",
        "plt.show()"
      ],
      "metadata": {
        "colab": {
          "base_uri": "https://localhost:8080/",
          "height": 388
        },
        "id": "IEY1HyAZ0o2f",
        "outputId": "4c34546b-c19c-4aa1-dc09-49223f331e31"
      },
      "execution_count": null,
      "outputs": [
        {
          "output_type": "display_data",
          "data": {
            "text/plain": [
              "<Figure size 720x432 with 1 Axes>"
            ],
            "image/png": "[encoded data removed]"
          },
          "metadata": {
            "needs_background": "light"
          }
        }
      ]
    },
    {
      "cell_type": "code",
      "source": [
        "from sklearn.neighbors import KNeighborsClassifier\n",
        "# 모형 불러오기\n",
        "kn = KNeighborsClassifier()\n",
        "\n",
        "# 모형 학습\n",
        "# kn.fit(fish_data, fish_target)\n",
        "\n",
        "kn.fit(fish_data, fish_target)\n",
        "\n",
        "#모형 평가\n",
        "# 1.0의미 ==> 100% 정확도\n",
        "kn.score(fish_data, fish_target)\n"
      ],
      "metadata": {
        "colab": {
          "base_uri": "https://localhost:8080/"
        },
        "id": "64K_4yWN1PRA",
        "outputId": "74b1e991-6b3d-41ae-93dc-e91fab2ad870"
      },
      "execution_count": null,
      "outputs": [
        {
          "output_type": "execute_result",
          "data": {
            "text/plain": [
              "1.0"
            ]
          },
          "metadata": {},
          "execution_count": 20
        }
      ]
    },
    {
      "cell_type": "code",
      "source": [
        "for n in range(5, 50):\n",
        "\n",
        "\n",
        "  kn.n_neighbors = n\n",
        "\n",
        "  score = kn.score(fish_data, fish_target)\n",
        "\n",
        "  if score < 1 :\n",
        "    print (n, score)\n",
        "    break\n",
        "\n"
      ],
      "metadata": {
        "colab": {
          "base_uri": "https://localhost:8080/"
        },
        "id": "MII3ja5gTUE3",
        "outputId": "b360b8d8-e606-4fc9-ebfd-8fc31650ca86"
      },
      "execution_count": null,
      "outputs": [
        {
          "output_type": "stream",
          "name": "stdout",
          "text": [
            "18 0.9795918367346939\n"
          ]
        }
      ]
    },
    {
      "cell_type": "code",
      "source": [
        "## 머신러닝 중요 메서드\n",
        "#- fit() : 훈련시 사용하는 메서드, 두개의 데이터가 들어감.\n",
        "# + 독립변수 : fish_data(길이, 몸무게)\n",
        "# + 종속변수 : fish_target\n",
        "\n",
        "# predict() : 예측할 때 사용\n",
        "# + 새로운 데이터 : 독립변수만 추가.\n",
        "\n",
        "# score() : 모형의 성능 평가\n",
        "  # 실전 : 평가지표 함수를 사용!"
      ],
      "metadata": {
        "id": "5zJp84IAUJ5O"
      },
      "execution_count": null,
      "outputs": []
    },
    {
      "cell_type": "code",
      "source": [],
      "metadata": {
        "id": "qGIKI0EqWbcO"
      },
      "execution_count": null,
      "outputs": []
    },
    {
      "cell_type": "markdown",
      "source": [
        "## 훈련 세트와 테스트 셋트\n",
        "- 기존 모델의 문제점\n",
        "- 예측값, 평가지표 산출 시, 100%\n",
        "- 훈련 세트 : 훈련 시에 사용되는 데이터\n",
        "- 테스트 셋트 : 평가 시에 사용되는 데이터\n"
      ],
      "metadata": {
        "id": "ywOFODG6WeNW"
      }
    },
    {
      "cell_type": "code",
      "source": [
        "fish_data[:5]"
      ],
      "metadata": {
        "colab": {
          "base_uri": "https://localhost:8080/"
        },
        "id": "JXlzFXvjYclO",
        "outputId": "f6142674-37ec-40d9-a655-fa38bed3b528"
      },
      "execution_count": null,
      "outputs": [
        {
          "output_type": "execute_result",
          "data": {
            "text/plain": [
              "[[25.4, 242.0], [26.3, 290.0], [26.5, 340.0], [29.0, 363.0], [29.0, 430.0]]"
            ]
          },
          "metadata": {},
          "execution_count": 23
        }
      ]
    },
    {
      "cell_type": "code",
      "source": [
        "fish_data[44:]\n"
      ],
      "metadata": {
        "colab": {
          "base_uri": "https://localhost:8080/"
        },
        "id": "SddRfmRKY0Om",
        "outputId": "a0d87053-b2ea-45ac-e5a7-909c88adcdae"
      },
      "execution_count": null,
      "outputs": [
        {
          "output_type": "execute_result",
          "data": {
            "text/plain": [
              "[[12.2, 12.2], [12.4, 13.4], [13.0, 12.2], [14.3, 19.7], [15.0, 19.9]]"
            ]
          },
          "metadata": {},
          "execution_count": 24
        }
      ]
    },
    {
      "cell_type": "code",
      "source": [
        "from logging import FileHandler\n",
        "train_input = fish_data[:35]\n",
        "train_terget = fish_target[:35]\n",
        "\n",
        "test_input = fish_data[:35]\n",
        "test_target = fish_target[:35]\n",
        "\n",
        "\n",
        " # - 학습을 도미로 함/ 평가는 빙어 가지고 테스트\n",
        "Kn = kn.fit(train_input, train_terget)\n",
        "kn.score(test_input, test_target)\n",
        "\n",
        "\n"
      ],
      "metadata": {
        "colab": {
          "base_uri": "https://localhost:8080/"
        },
        "id": "wbQVSqnIY4m-",
        "outputId": "151e6a0f-9543-465f-b979-5af48181a324"
      },
      "execution_count": null,
      "outputs": [
        {
          "output_type": "execute_result",
          "data": {
            "text/plain": [
              "1.0"
            ]
          },
          "metadata": {},
          "execution_count": 31
        }
      ]
    },
    {
      "cell_type": "markdown",
      "source": [
        "모형 만들고, 모형 테스트\n"
      ],
      "metadata": {
        "id": "H44qc5ndbxoH"
      }
    },
    {
      "cell_type": "code",
      "source": [
        "import numpy as np\n",
        "\n",
        "input_arr = np.array(fish_data)\n",
        "target_arr = np.array(fish_target)\n",
        "\n",
        "# print(input_arr)\n",
        "print(input_arr.shape) # 길이와 무게\n",
        "print(target_arr.shape) # 라벨"
      ],
      "metadata": {
        "colab": {
          "base_uri": "https://localhost:8080/"
        },
        "id": "CwZmuAUZaTN_",
        "outputId": "292b2033-2ed5-4cd4-d199-23f0df475716"
      },
      "execution_count": null,
      "outputs": [
        {
          "output_type": "stream",
          "name": "stdout",
          "text": [
            "(49, 2)\n",
            "(49,)\n"
          ]
        }
      ]
    },
    {
      "cell_type": "markdown",
      "source": [
        "인덱스를 shuffle 을 활용하여 섞기"
      ],
      "metadata": {
        "id": "3x3RPWRtgHPw"
      }
    },
    {
      "cell_type": "code",
      "source": [
        "np.random.seed(42) # 렌덤 고정\n",
        "index = np.arange(49)\n",
        "index"
      ],
      "metadata": {
        "colab": {
          "base_uri": "https://localhost:8080/"
        },
        "id": "wWodoui7c8v3",
        "outputId": "75825d84-ae6e-454a-a269-83130f2cca6d"
      },
      "execution_count": null,
      "outputs": [
        {
          "output_type": "execute_result",
          "data": {
            "text/plain": [
              "array([ 0,  1,  2,  3,  4,  5,  6,  7,  8,  9, 10, 11, 12, 13, 14, 15, 16,\n",
              "       17, 18, 19, 20, 21, 22, 23, 24, 25, 26, 27, 28, 29, 30, 31, 32, 33,\n",
              "       34, 35, 36, 37, 38, 39, 40, 41, 42, 43, 44, 45, 46, 47, 48])"
            ]
          },
          "metadata": {},
          "execution_count": 36
        }
      ]
    },
    {
      "cell_type": "markdown",
      "source": [],
      "metadata": {
        "id": "sycvwgd1gGFI"
      }
    },
    {
      "cell_type": "code",
      "source": [
        "np.random.shuffle(index)\n",
        "print(index)"
      ],
      "metadata": {
        "colab": {
          "base_uri": "https://localhost:8080/"
        },
        "id": "_K5qJYYNgdez",
        "outputId": "645a8bf8-27d1-4ce5-d0b8-5fda8207d086"
      },
      "execution_count": null,
      "outputs": [
        {
          "output_type": "stream",
          "name": "stdout",
          "text": [
            "[13 45 47 44 17 27 26 25 31 19 12  4 34  8  3  6 40 41 46 15  9 16 24 33\n",
            " 30  0 43 32  5 29 11 36  1 21  2 37 35 23 39 10 22 18 48 20  7 42 14 28\n",
            " 38]\n"
          ]
        }
      ]
    },
    {
      "cell_type": "code",
      "source": [
        "train_input = input_arr[index[:35]]\n",
        "train_target = target_arr[index[:35]]\n",
        "\n",
        "train_target"
      ],
      "metadata": {
        "colab": {
          "base_uri": "https://localhost:8080/"
        },
        "id": "jnML2jMWgpKX",
        "outputId": "da98dd6a-5fba-4a9d-c219-469088258fc0"
      },
      "execution_count": null,
      "outputs": [
        {
          "output_type": "execute_result",
          "data": {
            "text/plain": [
              "array([1, 0, 0, 0, 1, 1, 1, 1, 1, 1, 1, 1, 1, 1, 1, 1, 0, 0, 0, 1, 1, 1,\n",
              "       1, 1, 1, 1, 0, 1, 1, 1, 1, 0, 1, 1, 1])"
            ]
          },
          "metadata": {},
          "execution_count": 38
        }
      ]
    },
    {
      "cell_type": "code",
      "source": [
        "test_input = input_arr[index[:35]]\n",
        "test_target = target_arr[index[:35]]\n",
        "\n",
        "test_target"
      ],
      "metadata": {
        "colab": {
          "base_uri": "https://localhost:8080/"
        },
        "id": "d7wziSN_hX-Y",
        "outputId": "36b7d771-902e-4e66-c22d-09214ba6e7cb"
      },
      "execution_count": null,
      "outputs": [
        {
          "output_type": "execute_result",
          "data": {
            "text/plain": [
              "array([1, 0, 0, 0, 1, 1, 1, 1, 1, 1, 1, 1, 1, 1, 1, 1, 0, 0, 0, 1, 1, 1,\n",
              "       1, 1, 1, 1, 0, 1, 1, 1, 1, 0, 1, 1, 1])"
            ]
          },
          "metadata": {},
          "execution_count": 39
        }
      ]
    },
    {
      "cell_type": "markdown",
      "source": [
        "ss"
      ],
      "metadata": {
        "id": "wnkg62YHhmko"
      }
    },
    {
      "cell_type": "code",
      "source": [],
      "metadata": {
        "id": "e9x7aXbXiSap"
      },
      "execution_count": null,
      "outputs": []
    },
    {
      "cell_type": "code",
      "source": [
        "import matplotlib.pyplot as plt\n",
        "fig, ax = plt.subplots(figsize=(10,6))\n",
        "ax.scatter(train_input[:, 0], train_input[:, 1])\n",
        "ax.scatter(test_input[:, 0], test_input[:, 1])\n",
        "\n",
        "ax.set_xlabel('length')\n",
        "ax.set_ylabel('weight')\n",
        "plt.show()"
      ],
      "metadata": {
        "colab": {
          "base_uri": "https://localhost:8080/",
          "height": 388
        },
        "id": "YWLSFwhphc5P",
        "outputId": "1c7e902a-55d4-4833-e8b9-a85b365d80a4"
      },
      "execution_count": null,
      "outputs": [
        {
          "output_type": "display_data",
          "data": {
            "text/plain": [
              "<Figure size 720x432 with 1 Axes>"
            ],
            "image/png": "[encoded data removed]"
          },
          "metadata": {
            "needs_background": "light"
          }
        }
      ]
    },
    {
      "cell_type": "code",
      "source": [
        "kn = KNeighborsClassifier(n_neighbors=17)\n",
        "kn = kn.fit(train_input, train_target)\n",
        "kn.score(test_input, test_target)"
      ],
      "metadata": {
        "colab": {
          "base_uri": "https://localhost:8080/"
        },
        "id": "gllp7exvhlCY",
        "outputId": "d19e22f4-bb7a-487f-889b-509376277935"
      },
      "execution_count": null,
      "outputs": [
        {
          "output_type": "execute_result",
          "data": {
            "text/plain": [
              "0.7714285714285715"
            ]
          },
          "metadata": {},
          "execution_count": 44
        }
      ]
    },
    {
      "cell_type": "code",
      "source": [
        "kn.predict(test_input)"
      ],
      "metadata": {
        "colab": {
          "base_uri": "https://localhost:8080/"
        },
        "id": "yhrFFggZjTm7",
        "outputId": "9eac7a4b-86c6-4ea1-9f02-6520ccb68186"
      },
      "execution_count": null,
      "outputs": [
        {
          "output_type": "execute_result",
          "data": {
            "text/plain": [
              "array([1, 0, 0, 0, 1, 1, 1, 1, 1, 1, 1, 1, 1, 1, 1, 1, 0, 0, 0, 1, 1, 1,\n",
              "       1, 1, 1, 1, 0, 1, 1, 1, 1, 0, 1, 1, 1])"
            ]
          },
          "metadata": {},
          "execution_count": 42
        }
      ]
    },
    {
      "cell_type": "code",
      "source": [
        "test_target"
      ],
      "metadata": {
        "colab": {
          "base_uri": "https://localhost:8080/"
        },
        "id": "87cmimExjXpJ",
        "outputId": "0532c4ba-fa53-4e59-cbce-ad7c3d8300b7"
      },
      "execution_count": null,
      "outputs": [
        {
          "output_type": "execute_result",
          "data": {
            "text/plain": [
              "array([1, 0, 0, 0, 1, 1, 1, 1, 1, 1, 1, 1, 1, 1, 1, 1, 0, 0, 0, 1, 1, 1,\n",
              "       1, 1, 1, 1, 0, 1, 1, 1, 1, 0, 1, 1, 1])"
            ]
          },
          "metadata": {},
          "execution_count": 43
        }
      ]
    },
    {
      "cell_type": "markdown",
      "source": [
        "- 주요 함수 \n",
        "  + seed() : 초깃값이 같으면 동일한 난수를 뽑는다. 실험 재현성\n",
        "  + shuffle() : 주어진 배열을 랜덤하게 섞는다.\n",
        "\n",
        "## Sciket-Learn 라이브러를 활용한 세트 분리\n",
        "\n",
        "참고 : https://scikit-learn.org/stable/modules/neighbors.html#nearest-neighbors-classification"
      ],
      "metadata": {
        "id": "l6reZPT7kZ4x"
      }
    },
    {
      "cell_type": "code",
      "source": [
        "fish_length = [25.4, 26.3, 26.5, 29.0, 29.0, 29.7, 29.7, 30.0, 30.0, 30.7, 31.0, 31.0, \n",
        "                31.5, 32.0, 32.0, 32.0, 33.0, 33.0, 33.5, 33.5, 34.0, 34.0, 34.5, 35.0, \n",
        "                35.0, 35.0, 35.0, 36.0, 36.0, 37.0, 38.5, 38.5, 39.5, 41.0, 41.0, 9.8, \n",
        "                10.5, 10.6, 11.0, 11.2, 11.3, 11.8, 11.8, 12.0, 12.2, 12.4, 13.0, 14.3, 15.0]\n",
        "fish_weight = [242.0, 290.0, 340.0, 363.0, 430.0, 450.0, 500.0, 390.0, 450.0, 500.0, 475.0, 500.0, \n",
        "                500.0, 340.0, 600.0, 600.0, 700.0, 700.0, 610.0, 650.0, 575.0, 685.0, 620.0, 680.0, \n",
        "                700.0, 725.0, 720.0, 714.0, 850.0, 1000.0, 920.0, 955.0, 925.0, 975.0, 950.0, 6.7, \n",
        "                7.5, 7.0, 9.7, 9.8, 8.7, 10.0, 9.9, 9.8, 12.2, 13.4, 12.2, 19.7, 19.9]\n",
        "                "
      ],
      "metadata": {
        "id": "xwdV8H6LjZjo"
      },
      "execution_count": null,
      "outputs": []
    },
    {
      "cell_type": "code",
      "source": [
        "a_list = [1,2,3]\n",
        "b_list = [4,5,6]\n",
        "\n",
        "np.column_stack((a_list, b_list))"
      ],
      "metadata": {
        "colab": {
          "base_uri": "https://localhost:8080/"
        },
        "id": "YMKnH9zhlSoA",
        "outputId": "34b4207d-a7ab-41c2-ea2a-191e4516f650"
      },
      "execution_count": null,
      "outputs": [
        {
          "output_type": "execute_result",
          "data": {
            "text/plain": [
              "array([[1, 4],\n",
              "       [2, 5],\n",
              "       [3, 6]])"
            ]
          },
          "metadata": {},
          "execution_count": 50
        }
      ]
    },
    {
      "cell_type": "code",
      "source": [
        "fish_data = np.column_stack((fish_length, fish_weight))\n",
        "print(fish_data[:5])"
      ],
      "metadata": {
        "colab": {
          "base_uri": "https://localhost:8080/"
        },
        "id": "RNcrldG5lkA5",
        "outputId": "1fe2c53d-45f0-432c-fe4e-204db5a144ba"
      },
      "execution_count": null,
      "outputs": [
        {
          "output_type": "stream",
          "name": "stdout",
          "text": [
            "[[ 25.4 242. ]\n",
            " [ 26.3 290. ]\n",
            " [ 26.5 340. ]\n",
            " [ 29.  363. ]\n",
            " [ 29.  430. ]]\n"
          ]
        }
      ]
    },
    {
      "cell_type": "code",
      "source": [
        "fish_target = np.concatenate((np.ones(35), np.zeros(14)))\n",
        "print(fish_target)"
      ],
      "metadata": {
        "colab": {
          "base_uri": "https://localhost:8080/"
        },
        "id": "Lt2B5JGqlzHA",
        "outputId": "2de723d3-60e3-4620-a1d9-41597119fc74"
      },
      "execution_count": null,
      "outputs": [
        {
          "output_type": "stream",
          "name": "stdout",
          "text": [
            "[1. 1. 1. 1. 1. 1. 1. 1. 1. 1. 1. 1. 1. 1. 1. 1. 1. 1. 1. 1. 1. 1. 1. 1.\n",
            " 1. 1. 1. 1. 1. 1. 1. 1. 1. 1. 1. 0. 0. 0. 0. 0. 0. 0. 0. 0. 0. 0. 0. 0.\n",
            " 0.]\n"
          ]
        }
      ]
    },
    {
      "cell_type": "code",
      "source": [],
      "metadata": {
        "id": "w33PP_jYmPjR"
      },
      "execution_count": null,
      "outputs": []
    },
    {
      "cell_type": "markdown",
      "source": [
        "- Scikit-Learn 라이브러리가 요구하는 input 데이터 형태는 기본적으로 배열임(리스트가 아님)\n",
        "\n",
        "참고 : https://scikit-learn.org/stable/index.html"
      ],
      "metadata": {
        "id": "6lw8STwimRLh"
      }
    },
    {
      "cell_type": "code",
      "source": [
        "from sklearn.model_selection import train_test_split\n",
        "train_input, test_input, train_target, test_target = train_test_split(\n",
        "    fish_data, fish_target, random_state=42)\n",
        "print(train_input.shape, train_target.shape)"
      ],
      "metadata": {
        "colab": {
          "base_uri": "https://localhost:8080/"
        },
        "id": "MC7wwocpmgHx",
        "outputId": "703af901-5d1a-4bcf-ed92-467e6bbb3ac9"
      },
      "execution_count": null,
      "outputs": [
        {
          "output_type": "stream",
          "name": "stdout",
          "text": [
            "(36, 2) (36,)\n"
          ]
        }
      ]
    },
    {
      "cell_type": "code",
      "source": [
        "print(test_input.shape, test_target.shape)"
      ],
      "metadata": {
        "colab": {
          "base_uri": "https://localhost:8080/"
        },
        "id": "u2c8m9P0oSq6",
        "outputId": "55afc099-a016-49c2-b9fd-5ff416ece0aa"
      },
      "execution_count": null,
      "outputs": [
        {
          "output_type": "stream",
          "name": "stdout",
          "text": [
            "(13, 2) (13,)\n"
          ]
        }
      ]
    },
    {
      "cell_type": "code",
      "source": [
        "print(test_target)"
      ],
      "metadata": {
        "colab": {
          "base_uri": "https://localhost:8080/"
        },
        "id": "pe7q_QXcoZRY",
        "outputId": "6e006653-1003-4184-ab26-5bc49a2e788c"
      },
      "execution_count": null,
      "outputs": [
        {
          "output_type": "stream",
          "name": "stdout",
          "text": [
            "[1. 0. 0. 0. 1. 1. 1. 1. 1. 1. 1. 1. 1.]\n"
          ]
        }
      ]
    },
    {
      "cell_type": "markdown",
      "source": [
        "모형 만들기\n"
      ],
      "metadata": {
        "id": "iw_4aT_ipFmh"
      }
    },
    {
      "cell_type": "code",
      "source": [
        "kn = KNeighborsClassifier(n_neighbors=5)\n",
        "kn = kn.fit(train_input, train_target)\n",
        "kn.score(test_input, test_target)"
      ],
      "metadata": {
        "colab": {
          "base_uri": "https://localhost:8080/"
        },
        "id": "dD6vuO43or-8",
        "outputId": "73f1d646-d7cd-484e-e1fc-2533cdecbc1c"
      },
      "execution_count": null,
      "outputs": [
        {
          "output_type": "execute_result",
          "data": {
            "text/plain": [
              "1.0"
            ]
          },
          "metadata": {},
          "execution_count": 57
        }
      ]
    },
    {
      "cell_type": "markdown",
      "source": [
        "수상한 도미\n",
        "+ 도미 1, 빙어 0"
      ],
      "metadata": {
        "id": "n7qkpI7ApdBy"
      }
    },
    {
      "cell_type": "code",
      "source": [
        "#                  길이  몸무게\n",
        "print(kn.predict([[25, 150]]))"
      ],
      "metadata": {
        "colab": {
          "base_uri": "https://localhost:8080/"
        },
        "id": "GyCUinZdpb-6",
        "outputId": "2cf67d19-2d07-4489-db11-1d00fee5b475"
      },
      "execution_count": null,
      "outputs": [
        {
          "output_type": "stream",
          "name": "stdout",
          "text": [
            "[0.]\n"
          ]
        }
      ]
    },
    {
      "cell_type": "code",
      "source": [
        "import matplotlib.pyplot as plt\n",
        "fig, ax = plt.subplots(figsize=(10,6))\n",
        "ax.scatter(train_input[:, 0], train_input[:, 1])\n",
        "ax.scatter(test_input[:, 0], test_input[:, 1])\n",
        "ax.scatter(25,150, marker='*')\n",
        "\n",
        "ax.set_xlabel('length')\n",
        "ax.set_ylabel('weight')\n",
        "plt.show()"
      ],
      "metadata": {
        "colab": {
          "base_uri": "https://localhost:8080/",
          "height": 388
        },
        "id": "6UDTj8pBpEfS",
        "outputId": "68d0c2cb-6831-4a07-91fa-5c8ac086ffe8"
      },
      "execution_count": null,
      "outputs": [
        {
          "output_type": "display_data",
          "data": {
            "text/plain": [
              "<Figure size 720x432 with 1 Axes>"
            ],
            "image/png": "[encoded data removed]"
          },
          "metadata": {
            "needs_background": "light"
          }
        }
      ]
    },
    {
      "cell_type": "code",
      "source": [
        "distance, indexes = kn.kneighbors([[25,150]])\n",
        "\n",
        "fig, ax = plt.subplots(figsize=(10,6))\n",
        "ax.scatter(train_input[:, 0], train_input[:, 1])\n",
        "ax.scatter(25,150, marker='*')\n",
        "ax.scatter(train_input[indexes, 0], train_input[indexes, 1], marker='D')\n",
        "ax.set_xlim(0,100)\n",
        "\n",
        "ax.set_xlabel('length')\n",
        "ax.set_ylabel('weight')\n",
        "plt.show()"
      ],
      "metadata": {
        "colab": {
          "base_uri": "https://localhost:8080/",
          "height": 388
        },
        "id": "fKpq8qB-vCpt",
        "outputId": "71a20d76-fcb6-4690-a7cb-eb49d2516e5a"
      },
      "execution_count": null,
      "outputs": [
        {
          "output_type": "display_data",
          "data": {
            "text/plain": [
              "<Figure size 720x432 with 1 Axes>"
            ],
            "image/png": "[encoded data removed]"
          },
          "metadata": {
            "needs_background": "light"
          }
        }
      ]
    },
    {
      "cell_type": "markdown",
      "source": [
        "- 두가지 수치 데이터가 있음\n",
        " + length : cm 단위\n",
        " + weight : g 단위\n",
        "- 데이터 전처리 (Data Processing) = Feature Engineering"
      ],
      "metadata": {
        "id": "S_ti32dIxwGz"
      }
    },
    {
      "cell_type": "code",
      "source": [
        "print(train_input[indexes])"
      ],
      "metadata": {
        "colab": {
          "base_uri": "https://localhost:8080/"
        },
        "id": "dPY0Lxh7v00M",
        "outputId": "9acbd5b3-43ce-4de6-8c46-c6ecf7d76a3d"
      },
      "execution_count": null,
      "outputs": [
        {
          "output_type": "stream",
          "name": "stdout",
          "text": [
            "[[[ 25.4 242. ]\n",
            "  [ 15.   19.9]\n",
            "  [ 13.   12.2]\n",
            "  [ 26.3 290. ]\n",
            "  [ 11.8  10. ]]]\n"
          ]
        }
      ]
    },
    {
      "cell_type": "code",
      "source": [
        "print(train_target[indexes])"
      ],
      "metadata": {
        "colab": {
          "base_uri": "https://localhost:8080/"
        },
        "id": "T6BuoRGqwbhD",
        "outputId": "b1c94a0d-2c7f-47bc-f8d0-1ef539057a9e"
      },
      "execution_count": null,
      "outputs": [
        {
          "output_type": "stream",
          "name": "stdout",
          "text": [
            "[[1. 0. 0. 1. 0.]]\n"
          ]
        }
      ]
    },
    {
      "cell_type": "code",
      "source": [
        "print(distance)"
      ],
      "metadata": {
        "colab": {
          "base_uri": "https://localhost:8080/"
        },
        "id": "92s9-PyEwgSi",
        "outputId": "ffb0f0f7-4272-4465-b6f8-f042e11ff79c"
      },
      "execution_count": null,
      "outputs": [
        {
          "output_type": "stream",
          "name": "stdout",
          "text": [
            "[[ 92.00086956 130.48375378 138.32150953 140.00603558 140.62090883]]\n"
          ]
        }
      ]
    },
    {
      "cell_type": "markdown",
      "source": [
        "## Feature Engineering 맛보기\n",
        "- 표준점수 (Z-Score) 화\n",
        "  + 두개의 수치 데이터를 "
      ],
      "metadata": {
        "id": "CYmjOxDWyoW0"
      }
    },
    {
      "cell_type": "code",
      "source": [
        "mean = np.mean(train_input, axis = 0) #평균\n",
        "std = np.std(train_input, axis = 0) #표준편차\n",
        "\n",
        "print(mean, std)\n"
      ],
      "metadata": {
        "colab": {
          "base_uri": "https://localhost:8080/"
        },
        "id": "qeIHS8xVwklz",
        "outputId": "563a4e74-ef2f-4ded-ef63-0445cf67362d"
      },
      "execution_count": null,
      "outputs": [
        {
          "output_type": "stream",
          "name": "stdout",
          "text": [
            "[ 26.175      418.08888889] [ 10.21073441 321.67847023]\n"
          ]
        }
      ]
    },
    {
      "cell_type": "code",
      "source": [
        "train_scaled = (train_input - mean) / std\n",
        "train_scaled"
      ],
      "metadata": {
        "colab": {
          "base_uri": "https://localhost:8080/"
        },
        "id": "M2dem_ZAyn1L",
        "outputId": "f09d50d5-365f-484e-f0d2-73c269fc7505"
      },
      "execution_count": null,
      "outputs": [
        {
          "output_type": "execute_result",
          "data": {
            "text/plain": [
              "array([[ 0.37460577,  0.09920189],\n",
              "       [ 0.27666962, -0.17125451],\n",
              "       [ 0.34522492,  0.2546366 ],\n",
              "       [-1.45680021, -1.27266487],\n",
              "       [-1.40783213, -1.26862357],\n",
              "       [-1.29030875, -1.26178444],\n",
              "       [ 0.57047806,  0.56550602],\n",
              "       [ 0.44316107,  0.2546366 ],\n",
              "       [ 0.66841421,  0.87637544],\n",
              "       [ 0.86428651,  0.87637544],\n",
              "       [ 1.4519034 ,  1.73126635],\n",
              "       [ 1.20706303,  1.56028817],\n",
              "       [-0.07590051, -0.54740651],\n",
              "       [-1.3882449 , -1.26924531],\n",
              "       [ 1.30499918,  1.57583164],\n",
              "       [ 0.34522492,  0.09920189],\n",
              "       [ 1.06015881,  1.80898371],\n",
              "       [ 0.47254192,  0.2546366 ],\n",
              "       [-1.53514913, -1.2763953 ],\n",
              "       [ 0.01224202, -0.39818919],\n",
              "       [ 0.76635036,  0.82974503],\n",
              "       [ 0.03182925, -0.24275448],\n",
              "       [-1.52535551, -1.27794965],\n",
              "       [-1.60370443, -1.27888226],\n",
              "       [ 0.86428651,  0.81420156],\n",
              "       [-1.46659382, -1.26924531],\n",
              "       [ 0.47254192,  0.17691924],\n",
              "       [ 0.81531843,  0.6276799 ],\n",
              "       [ 0.71738229,  0.59659296],\n",
              "       [-1.09443646, -1.2378475 ],\n",
              "       [ 0.76635036,  0.48778866],\n",
              "       [ 0.37460577, -0.08731977],\n",
              "       [-1.40783213, -1.26893444],\n",
              "       [ 0.57047806,  0.56550602],\n",
              "       [ 0.96222266,  1.34267957],\n",
              "       [-1.48618105, -1.26955618]])"
            ]
          },
          "metadata": {},
          "execution_count": 69
        }
      ]
    },
    {
      "cell_type": "code",
      "source": [
        "# 모델링 재학습\n",
        "kn.fit(train_scaled, train_target)"
      ],
      "metadata": {
        "colab": {
          "base_uri": "https://localhost:8080/"
        },
        "id": "gBIBAPJ5zX01",
        "outputId": "467b1609-bae0-425b-a807-aec4a54db131"
      },
      "execution_count": null,
      "outputs": [
        {
          "output_type": "execute_result",
          "data": {
            "text/plain": [
              "KNeighborsClassifier()"
            ]
          },
          "metadata": {},
          "execution_count": 70
        }
      ]
    },
    {
      "cell_type": "code",
      "source": [
        "# 모형 평가 --> 100%\n",
        "test_scaled = (test_input - mean) / std\n",
        "kn.score(test_scaled, test_target)\n"
      ],
      "metadata": {
        "colab": {
          "base_uri": "https://localhost:8080/"
        },
        "id": "OGip0EHXzgA7",
        "outputId": "3e1ebfda-7f4e-48d1-c542-5e4b0f3936b6"
      },
      "execution_count": null,
      "outputs": [
        {
          "output_type": "execute_result",
          "data": {
            "text/plain": [
              "1.0"
            ]
          },
          "metadata": {},
          "execution_count": 71
        }
      ]
    },
    {
      "cell_type": "code",
      "source": [
        "# 새로운 데이터 --> 표준점수화\n",
        "new = ([25, 50] - mean) / std\n",
        "new"
      ],
      "metadata": {
        "colab": {
          "base_uri": "https://localhost:8080/"
        },
        "id": "wfTwDX2qzrtE",
        "outputId": "3e418754-6edb-4ee5-eb83-190ba56b204e"
      },
      "execution_count": null,
      "outputs": [
        {
          "output_type": "execute_result",
          "data": {
            "text/plain": [
              "array([-0.11507497, -1.1442758 ])"
            ]
          },
          "metadata": {},
          "execution_count": 72
        }
      ]
    },
    {
      "cell_type": "code",
      "source": [
        "print(kn.predict([new]))"
      ],
      "metadata": {
        "colab": {
          "base_uri": "https://localhost:8080/"
        },
        "id": "9sR2H5o20UWU",
        "outputId": "8908454c-2417-4d5e-ffe0-c138b2dfb997"
      },
      "execution_count": null,
      "outputs": [
        {
          "output_type": "stream",
          "name": "stdout",
          "text": [
            "[1.]\n"
          ]
        }
      ]
    },
    {
      "cell_type": "code",
      "source": [
        "distance, indexes = kn.kneighbors([new])\n",
        "\n",
        "fig, ax = plt.subplots(figsize=(10,6))\n",
        "ax.scatter(train_scaled[:, 0], train_scaled[:, 1])\n",
        "ax.scatter(new[0],new[1], marker='*')\n",
        "ax.scatter(train_scaled[indexes, 0], train_scaled[indexes, 1], marker='D')\n",
        "\n",
        "ax.set_xlabel('length')\n",
        "ax.set_ylabel('weight')\n",
        "plt.show()"
      ],
      "metadata": {
        "colab": {
          "base_uri": "https://localhost:8080/",
          "height": 388
        },
        "id": "iA8PGKtm0s5M",
        "outputId": "1455524c-2964-4074-88c2-01ceb476ae25"
      },
      "execution_count": null,
      "outputs": [
        {
          "output_type": "display_data",
          "data": {
            "text/plain": [
              "<Figure size 720x432 with 1 Axes>"
            ],
            "image/png": "[encoded data removed]"
          },
          "metadata": {
            "needs_background": "light"
          }
        }
      ]
    },
    {
      "cell_type": "code",
      "source": [],
      "metadata": {
        "id": "rx6K1O-D1Har"
      },
      "execution_count": null,
      "outputs": []
    }
  ]
}
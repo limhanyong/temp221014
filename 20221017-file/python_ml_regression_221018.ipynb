{
  "nbformat": 4,
  "nbformat_minor": 0,
  "metadata": {
    "colab": {
      "provenance": []
    },
    "kernelspec": {
      "name": "python3",
      "display_name": "Python 3"
    },
    "language_info": {
      "name": "python"
    }
  },
  "cells": [
    {
      "cell_type": "markdown",
      "source": [
        "## 회귀\n",
        "- 수치예측 \n",
        "- 통계 관점에서의 회귀 \n",
        "  + 해석이 매우 중요 / 데이터가 어떤 분포로 이루어져 있느냐!? 이걸 파악! \n",
        "  + 가설검정 추론\n",
        "    - 카카오 주식 하락을 시키는 여러가지 요인\n",
        "- 머신러닝 관점에서의 회귀\n",
        "  + 수치 예측\n",
        "  + 오차(Error) = 실제 관측치 - 예측치 \n",
        "  + 좋은 모델을 선정 ==> 오차가 작은것이 Best"
      ],
      "metadata": {
        "id": "GdRQzZ_scqia"
      }
    },
    {
      "cell_type": "code",
      "execution_count": 1,
      "metadata": {
        "id": "PQ-9qoPWaNY9"
      },
      "outputs": [],
      "source": [
        "import numpy as np \n",
        "\n",
        "perch_length = np.array(\n",
        "    [8.4, 13.7, 15.0, 16.2, 17.4, 18.0, 18.7, 19.0, 19.6, 20.0, \n",
        "     21.0, 21.0, 21.0, 21.3, 22.0, 22.0, 22.0, 22.0, 22.0, 22.5, \n",
        "     22.5, 22.7, 23.0, 23.5, 24.0, 24.0, 24.6, 25.0, 25.6, 26.5, \n",
        "     27.3, 27.5, 27.5, 27.5, 28.0, 28.7, 30.0, 32.8, 34.5, 35.0, \n",
        "     36.5, 36.0, 37.0, 37.0, 39.0, 39.0, 39.0, 40.0, 40.0, 40.0, \n",
        "     40.0, 42.0, 43.0, 43.0, 43.5, 44.0]\n",
        "     )\n",
        "perch_weight = np.array(\n",
        "    [5.9, 32.0, 40.0, 51.5, 70.0, 100.0, 78.0, 80.0, 85.0, 85.0, \n",
        "     110.0, 115.0, 125.0, 130.0, 120.0, 120.0, 130.0, 135.0, 110.0, \n",
        "     130.0, 150.0, 145.0, 150.0, 170.0, 225.0, 145.0, 188.0, 180.0, \n",
        "     197.0, 218.0, 300.0, 260.0, 265.0, 250.0, 250.0, 300.0, 320.0, \n",
        "     514.0, 556.0, 840.0, 685.0, 700.0, 700.0, 690.0, 900.0, 650.0, \n",
        "     820.0, 850.0, 900.0, 1015.0, 820.0, 1100.0, 1000.0, 1100.0, \n",
        "     1000.0, 1000.0]\n",
        "     ) "
      ]
    },
    {
      "cell_type": "markdown",
      "source": [
        "## 데이터 시각화"
      ],
      "metadata": {
        "id": "urZrcfCjf-C3"
      }
    },
    {
      "cell_type": "code",
      "source": [
        "import matplotlib.pyplot as plt \n",
        "fig, ax = plt.subplots()\n",
        "ax.scatter(perch_length, perch_weight)\n",
        "ax.set_xlabel(\"length\")\n",
        "ax.set_ylabel(\"weight\")\n",
        "plt.show()"
      ],
      "metadata": {
        "colab": {
          "base_uri": "https://localhost:8080/",
          "height": 279
        },
        "id": "irg_d9MUgAA3",
        "outputId": "f01a0265-dc96-42df-d340-b7b79c8d0c6a"
      },
      "execution_count": 3,
      "outputs": [
        {
          "output_type": "display_data",
          "data": {
            "text/plain": [
              "<Figure size 432x288 with 1 Axes>"
            ],
            "image/png": "[encoded data removed]"
          },
          "metadata": {
            "needs_background": "light"
          }
        }
      ]
    },
    {
      "cell_type": "markdown",
      "source": [
        "## 세트분리\n",
        "- 훈련 세트, 테스트 세트 분리\n",
        "- scikit-learn, train_test_split() "
      ],
      "metadata": {
        "id": "gsxiFieBg7wL"
      }
    },
    {
      "cell_type": "code",
      "source": [
        "from sklearn.model_selection import train_test_split \n",
        "\n",
        "train_input, test_input, train_target, test_target = train_test_split(\n",
        "    perch_length, perch_weight, random_state = 42\n",
        ")\n",
        "\n",
        "train_input.shape, test_input.shape, train_target.shape, test_target.shape"
      ],
      "metadata": {
        "colab": {
          "base_uri": "https://localhost:8080/"
        },
        "id": "1j2bnApfhF9W",
        "outputId": "29454050-0808-4bb4-8c8b-6b1165b0336e"
      },
      "execution_count": 22,
      "outputs": [
        {
          "output_type": "execute_result",
          "data": {
            "text/plain": [
              "((42,), (14,), (42,), (14,))"
            ]
          },
          "metadata": {},
          "execution_count": 22
        }
      ]
    },
    {
      "cell_type": "code",
      "source": [
        "train_input.ndim, test_input.ndim, train_target.ndim, test_target.ndim"
      ],
      "metadata": {
        "colab": {
          "base_uri": "https://localhost:8080/"
        },
        "id": "G9QdoCN0jxfQ",
        "outputId": "8a227cdf-6349-47c6-9752-462dc4d4e6aa"
      },
      "execution_count": 17,
      "outputs": [
        {
          "output_type": "execute_result",
          "data": {
            "text/plain": [
              "(1, 1, 1, 1)"
            ]
          },
          "metadata": {},
          "execution_count": 17
        }
      ]
    },
    {
      "cell_type": "code",
      "source": [
        "# 배열의 사이즈를 맘대로 바꿀 수 있음 \n",
        "# 1차원 배열 --> 2차원 또는 3차원 배열\n",
        "# 최대공약수 & 최소공배수 \n",
        "test_array = np.array([1, 2, 3, 4, 5, 6, 7, 8])\n",
        "temp_arr = test_array.reshape(-1, 2, 2)\n",
        "temp_arr"
      ],
      "metadata": {
        "colab": {
          "base_uri": "https://localhost:8080/"
        },
        "id": "iAwzp7HuiGnT",
        "outputId": "c4ba51f3-7b74-46b6-cfba-cc3342dc488a"
      },
      "execution_count": 10,
      "outputs": [
        {
          "output_type": "execute_result",
          "data": {
            "text/plain": [
              "array([[[1, 2],\n",
              "        [3, 4]],\n",
              "\n",
              "       [[5, 6],\n",
              "        [7, 8]]])"
            ]
          },
          "metadata": {},
          "execution_count": 10
        }
      ]
    },
    {
      "cell_type": "code",
      "source": [
        "train_input = train_input.reshape(-1, 1)\n",
        "train_input.shape"
      ],
      "metadata": {
        "colab": {
          "base_uri": "https://localhost:8080/"
        },
        "id": "7g-pdGYQjNRa",
        "outputId": "e6b9924b-6713-427a-daff-ad0f57565f2f"
      },
      "execution_count": 23,
      "outputs": [
        {
          "output_type": "execute_result",
          "data": {
            "text/plain": [
              "(42, 1)"
            ]
          },
          "metadata": {},
          "execution_count": 23
        }
      ]
    },
    {
      "cell_type": "code",
      "source": [
        "test_input = test_input.reshape(-1, 1)\n",
        "test_input.shape"
      ],
      "metadata": {
        "colab": {
          "base_uri": "https://localhost:8080/"
        },
        "id": "pkxrxiWejeBj",
        "outputId": "37c34457-3faf-4348-8777-e2ded9c3b58e"
      },
      "execution_count": 24,
      "outputs": [
        {
          "output_type": "execute_result",
          "data": {
            "text/plain": [
              "(14, 1)"
            ]
          },
          "metadata": {},
          "execution_count": 24
        }
      ]
    },
    {
      "cell_type": "code",
      "source": [
        "train_input.ndim"
      ],
      "metadata": {
        "colab": {
          "base_uri": "https://localhost:8080/"
        },
        "id": "FY6GEV8kjd8m",
        "outputId": "6e31cdad-e678-4fba-90d1-7866bdcf12c4"
      },
      "execution_count": 15,
      "outputs": [
        {
          "output_type": "execute_result",
          "data": {
            "text/plain": [
              "2"
            ]
          },
          "metadata": {},
          "execution_count": 15
        }
      ]
    },
    {
      "cell_type": "markdown",
      "source": [
        "## 모델 만들기"
      ],
      "metadata": {
        "id": "2j4A0a1lnePj"
      }
    },
    {
      "cell_type": "code",
      "source": [
        "from sklearn.neighbors import KNeighborsRegressor \n",
        "\n",
        "knr = KNeighborsRegressor() \n",
        "\n",
        "# K-최근접 이웃 회귀모델\n",
        "knr.fit(train_input, train_target)"
      ],
      "metadata": {
        "colab": {
          "base_uri": "https://localhost:8080/"
        },
        "id": "TQl4hKY6nnA4",
        "outputId": "a4f35431-99f6-4f71-9369-b6a53606d354"
      },
      "execution_count": 25,
      "outputs": [
        {
          "output_type": "execute_result",
          "data": {
            "text/plain": [
              "KNeighborsRegressor()"
            ]
          },
          "metadata": {},
          "execution_count": 25
        }
      ]
    },
    {
      "cell_type": "markdown",
      "source": [
        "## 결정계수\n",
        "- 신뢰도, 모형을 내가 99.2% "
      ],
      "metadata": {
        "id": "RdU3OYjlpJOS"
      }
    },
    {
      "cell_type": "code",
      "source": [
        "knr.score(test_input, test_target)"
      ],
      "metadata": {
        "colab": {
          "base_uri": "https://localhost:8080/"
        },
        "id": "aUhyGx8ooY8a",
        "outputId": "2eca5666-1d67-40d7-a823-35b3076b3894"
      },
      "execution_count": 26,
      "outputs": [
        {
          "output_type": "execute_result",
          "data": {
            "text/plain": [
              "0.992809406101064"
            ]
          },
          "metadata": {},
          "execution_count": 26
        }
      ]
    },
    {
      "cell_type": "markdown",
      "source": [
        "- 평가지표 (sklearn 함수로 존재함)\n",
        "  + 절댓값 오차"
      ],
      "metadata": {
        "id": "h8JJhvmmqUHM"
      }
    },
    {
      "cell_type": "code",
      "source": [
        "from sklearn.metrics import mean_absolute_error \n",
        "\n",
        "# 테스트 세트에 대한 예측을 만듬\n",
        "test_prediction = knr.predict(test_input)\n",
        "test_prediction "
      ],
      "metadata": {
        "colab": {
          "base_uri": "https://localhost:8080/"
        },
        "id": "cJOWUrqDqZWA",
        "outputId": "7bff55c3-2aad-4603-d85c-0561d3a43ecd"
      },
      "execution_count": 28,
      "outputs": [
        {
          "output_type": "execute_result",
          "data": {
            "text/plain": [
              "array([  60. ,   79.6,  248. ,  122. ,  136. ,  847. ,  311.4,  183.4,\n",
              "        847. ,  113. , 1010. ,   60. ,  248. ,  248. ])"
            ]
          },
          "metadata": {},
          "execution_count": 28
        }
      ]
    },
    {
      "cell_type": "code",
      "source": [
        "import pandas as pd \n",
        "\n",
        "result_df = pd.DataFrame({\n",
        "    \"예측\" : test_prediction, \n",
        "    \"기존\" : test_target\n",
        "})\n",
        "\n",
        "result_df"
      ],
      "metadata": {
        "colab": {
          "base_uri": "https://localhost:8080/",
          "height": 488
        },
        "id": "HZqS1Bbzrf8W",
        "outputId": "e734f9b8-8fe9-4867-9604-abdd4fe6a815"
      },
      "execution_count": 32,
      "outputs": [
        {
          "output_type": "execute_result",
          "data": {
            "text/plain": [
              "        예측      기존\n",
              "0     60.0     5.9\n",
              "1     79.6   100.0\n",
              "2    248.0   250.0\n",
              "3    122.0   130.0\n",
              "4    136.0   130.0\n",
              "5    847.0   820.0\n",
              "6    311.4   320.0\n",
              "7    183.4   188.0\n",
              "8    847.0   900.0\n",
              "9    113.0   125.0\n",
              "10  1010.0  1000.0\n",
              "11    60.0    51.5\n",
              "12   248.0   250.0\n",
              "13   248.0   300.0"
            ],
            "text/html": [
              "\n",
              "  <div id=\"df-b33ccb79-2778-40b8-855b-76c7e0c430e6\">\n",
              "    <div class=\"colab-df-container\">\n",
              "      <div>\n",
              "<style scoped>\n",
              "    .dataframe tbody tr th:only-of-type {\n",
              "        vertical-align: middle;\n",
              "    }\n",
              "\n",
              "    .dataframe tbody tr th {\n",
              "        vertical-align: top;\n",
              "    }\n",
              "\n",
              "    .dataframe thead th {\n",
              "        text-align: right;\n",
              "    }\n",
              "</style>\n",
              "<table border=\"1\" class=\"dataframe\">\n",
              "  <thead>\n",
              "    <tr style=\"text-align: right;\">\n",
              "      <th></th>\n",
              "      <th>예측</th>\n",
              "      <th>기존</th>\n",
              "    </tr>\n",
              "  </thead>\n",
              "  <tbody>\n",
              "    <tr>\n",
              "      <th>0</th>\n",
              "      <td>60.0</td>\n",
              "      <td>5.9</td>\n",
              "    </tr>\n",
              "    <tr>\n",
              "      <th>1</th>\n",
              "      <td>79.6</td>\n",
              "      <td>100.0</td>\n",
              "    </tr>\n",
              "    <tr>\n",
              "      <th>2</th>\n",
              "      <td>248.0</td>\n",
              "      <td>250.0</td>\n",
              "    </tr>\n",
              "    <tr>\n",
              "      <th>3</th>\n",
              "      <td>122.0</td>\n",
              "      <td>130.0</td>\n",
              "    </tr>\n",
              "    <tr>\n",
              "      <th>4</th>\n",
              "      <td>136.0</td>\n",
              "      <td>130.0</td>\n",
              "    </tr>\n",
              "    <tr>\n",
              "      <th>5</th>\n",
              "      <td>847.0</td>\n",
              "      <td>820.0</td>\n",
              "    </tr>\n",
              "    <tr>\n",
              "      <th>6</th>\n",
              "      <td>311.4</td>\n",
              "      <td>320.0</td>\n",
              "    </tr>\n",
              "    <tr>\n",
              "      <th>7</th>\n",
              "      <td>183.4</td>\n",
              "      <td>188.0</td>\n",
              "    </tr>\n",
              "    <tr>\n",
              "      <th>8</th>\n",
              "      <td>847.0</td>\n",
              "      <td>900.0</td>\n",
              "    </tr>\n",
              "    <tr>\n",
              "      <th>9</th>\n",
              "      <td>113.0</td>\n",
              "      <td>125.0</td>\n",
              "    </tr>\n",
              "    <tr>\n",
              "      <th>10</th>\n",
              "      <td>1010.0</td>\n",
              "      <td>1000.0</td>\n",
              "    </tr>\n",
              "    <tr>\n",
              "      <th>11</th>\n",
              "      <td>60.0</td>\n",
              "      <td>51.5</td>\n",
              "    </tr>\n",
              "    <tr>\n",
              "      <th>12</th>\n",
              "      <td>248.0</td>\n",
              "      <td>250.0</td>\n",
              "    </tr>\n",
              "    <tr>\n",
              "      <th>13</th>\n",
              "      <td>248.0</td>\n",
              "      <td>300.0</td>\n",
              "    </tr>\n",
              "  </tbody>\n",
              "</table>\n",
              "</div>\n",
              "      <button class=\"colab-df-convert\" onclick=\"convertToInteractive('df-b33ccb79-2778-40b8-855b-76c7e0c430e6')\"\n",
              "              title=\"Convert this dataframe to an interactive table.\"\n",
              "              style=\"display:none;\">\n",
              "        \n",
              "  <svg xmlns=\"http://www.w3.org/2000/svg\" height=\"24px\"viewBox=\"0 0 24 24\"\n",
              "       width=\"24px\">\n",
              "    <path d=\"M0 0h24v24H0V0z\" fill=\"none\"/>\n",
              "    <path d=\"M18.56 5.44l.94 2.06.94-2.06 2.06-.94-2.06-.94-.94-2.06-.94 2.06-2.06.94zm-11 1L8.5 8.5l.94-2.06 2.06-.94-2.06-.94L8.5 2.5l-.94 2.06-2.06.94zm10 10l.94 2.06.94-2.06 2.06-.94-2.06-.94-.94-2.06-.94 2.06-2.06.94z\"/><path d=\"M17.41 7.96l-1.37-1.37c-.4-.4-.92-.59-1.43-.59-.52 0-1.04.2-1.43.59L10.3 9.45l-7.72 7.72c-.78.78-.78 2.05 0 2.83L4 21.41c.39.39.9.59 1.41.59.51 0 1.02-.2 1.41-.59l7.78-7.78 2.81-2.81c.8-.78.8-2.07 0-2.86zM5.41 20L4 18.59l7.72-7.72 1.47 1.35L5.41 20z\"/>\n",
              "  </svg>\n",
              "      </button>\n",
              "      \n",
              "  <style>\n",
              "    .colab-df-container {\n",
              "      display:flex;\n",
              "      flex-wrap:wrap;\n",
              "      gap: 12px;\n",
              "    }\n",
              "\n",
              "    .colab-df-convert {\n",
              "      background-color: #E8F0FE;\n",
              "      border: none;\n",
              "      border-radius: 50%;\n",
              "      cursor: pointer;\n",
              "      display: none;\n",
              "      fill: #1967D2;\n",
              "      height: 32px;\n",
              "      padding: 0 0 0 0;\n",
              "      width: 32px;\n",
              "    }\n",
              "\n",
              "    .colab-df-convert:hover {\n",
              "      background-color: #E2EBFA;\n",
              "      box-shadow: 0px 1px 2px rgba(60, 64, 67, 0.3), 0px 1px 3px 1px rgba(60, 64, 67, 0.15);\n",
              "      fill: #174EA6;\n",
              "    }\n",
              "\n",
              "    [theme=dark] .colab-df-convert {\n",
              "      background-color: #3B4455;\n",
              "      fill: #D2E3FC;\n",
              "    }\n",
              "\n",
              "    [theme=dark] .colab-df-convert:hover {\n",
              "      background-color: #434B5C;\n",
              "      box-shadow: 0px 1px 3px 1px rgba(0, 0, 0, 0.15);\n",
              "      filter: drop-shadow(0px 1px 2px rgba(0, 0, 0, 0.3));\n",
              "      fill: #FFFFFF;\n",
              "    }\n",
              "  </style>\n",
              "\n",
              "      <script>\n",
              "        const buttonEl =\n",
              "          document.querySelector('#df-b33ccb79-2778-40b8-855b-76c7e0c430e6 button.colab-df-convert');\n",
              "        buttonEl.style.display =\n",
              "          google.colab.kernel.accessAllowed ? 'block' : 'none';\n",
              "\n",
              "        async function convertToInteractive(key) {\n",
              "          const element = document.querySelector('#df-b33ccb79-2778-40b8-855b-76c7e0c430e6');\n",
              "          const dataTable =\n",
              "            await google.colab.kernel.invokeFunction('convertToInteractive',\n",
              "                                                     [key], {});\n",
              "          if (!dataTable) return;\n",
              "\n",
              "          const docLinkHtml = 'Like what you see? Visit the ' +\n",
              "            '<a target=\"_blank\" href=https://colab.research.google.com/notebooks/data_table.ipynb>data table notebook</a>'\n",
              "            + ' to learn more about interactive tables.';\n",
              "          element.innerHTML = '';\n",
              "          dataTable['output_type'] = 'display_data';\n",
              "          await google.colab.output.renderOutput(dataTable, element);\n",
              "          const docLink = document.createElement('div');\n",
              "          docLink.innerHTML = docLinkHtml;\n",
              "          element.appendChild(docLink);\n",
              "        }\n",
              "      </script>\n",
              "    </div>\n",
              "  </div>\n",
              "  "
            ]
          },
          "metadata": {},
          "execution_count": 32
        }
      ]
    },
    {
      "cell_type": "markdown",
      "source": [
        "## 19g의 의미\n",
        "- 예측이 평균적으로 19g 정도 다르다! "
      ],
      "metadata": {
        "id": "XCnoi0q4rfU-"
      }
    },
    {
      "cell_type": "code",
      "source": [
        "# 테스트 세트에 대한 평균 절댓값 오차를 계산\n",
        "mae = mean_absolute_error(test_target, test_prediction)\n",
        "print(mae)"
      ],
      "metadata": {
        "colab": {
          "base_uri": "https://localhost:8080/"
        },
        "id": "GOich_UgrHro",
        "outputId": "08b3b856-6bfc-4c98-a0b7-206700cc621e"
      },
      "execution_count": 30,
      "outputs": [
        {
          "output_type": "stream",
          "name": "stdout",
          "text": [
            "19.157142857142862\n"
          ]
        }
      ]
    },
    {
      "cell_type": "markdown",
      "source": [
        "## 과대적합 vs 과소적합\n",
        "- 내신 (훈련) : 내신 1등\n",
        "- 모의고사 (검증) : 모의고사 중간\n",
        "- 수능 (테스트) : 모의고사보다 더 못봄\n",
        "\n",
        "--- \n",
        "- 내신(훈련) : 내신 5등\n",
        "- 모의고사 (검증) : 모의고사 상위 \n",
        "- 수능 (테스트) : 수능 중상위\n",
        "\n",
        "-- \n",
        "SI 업체 \n",
        "- 과제 수행완료\n",
        "--> 평가지표 몇 이상! \n"
      ],
      "metadata": {
        "id": "a00_HZ0wsh8C"
      }
    },
    {
      "cell_type": "markdown",
      "source": [
        "과소적합 Case \n",
        "- 훈련 데이터 평가 : 0.97\n",
        "- 테스트 데이터 평가 : 0.99"
      ],
      "metadata": {
        "id": "_aqrddfs1fCn"
      }
    },
    {
      "cell_type": "code",
      "source": [
        "print(knr.score(train_input, train_target))"
      ],
      "metadata": {
        "colab": {
          "base_uri": "https://localhost:8080/"
        },
        "id": "VkTnv6LVrL1n",
        "outputId": "1ff4637a-48cc-42fc-b86f-0b5f0a55c972"
      },
      "execution_count": 33,
      "outputs": [
        {
          "output_type": "stream",
          "name": "stdout",
          "text": [
            "0.9698823289099254\n"
          ]
        }
      ]
    },
    {
      "cell_type": "markdown",
      "source": [
        "## 파라미터 조정"
      ],
      "metadata": {
        "id": "DGl91iaP2DD7"
      }
    },
    {
      "cell_type": "code",
      "source": [
        "knr.n_neighbors = 3 \n",
        "\n",
        "# 모델 다시 훈련\n",
        "knr.fit(train_input, train_target) \n",
        "print(knr.score(train_input, train_target))"
      ],
      "metadata": {
        "colab": {
          "base_uri": "https://localhost:8080/"
        },
        "id": "B6RUO8Vg2Ezr",
        "outputId": "1c7b0d32-dce5-4555-eca6-ea7f217a308c"
      },
      "execution_count": 34,
      "outputs": [
        {
          "output_type": "stream",
          "name": "stdout",
          "text": [
            "0.9804899950518966\n"
          ]
        }
      ]
    },
    {
      "cell_type": "code",
      "source": [
        "print(knr.score(test_input, test_target))"
      ],
      "metadata": {
        "colab": {
          "base_uri": "https://localhost:8080/"
        },
        "id": "rdVpB7Tl2Ov8",
        "outputId": "a6576dd7-df04-4362-ecfd-fdc686a81f29"
      },
      "execution_count": 35,
      "outputs": [
        {
          "output_type": "stream",
          "name": "stdout",
          "text": [
            "0.9746459963987609\n"
          ]
        }
      ]
    },
    {
      "cell_type": "markdown",
      "source": [
        "## 왜 다른 모형이 필요한가!? \n",
        "- 머신러닝 알고리즘의 종류는 수백가지"
      ],
      "metadata": {
        "id": "4cgOo5xj2g9-"
      }
    },
    {
      "cell_type": "code",
      "source": [
        "print(knr.predict([[50]]))"
      ],
      "metadata": {
        "colab": {
          "base_uri": "https://localhost:8080/"
        },
        "id": "9U8DvBSo29Pp",
        "outputId": "6a300d27-a7b1-4e9f-c744-88161e2c8038"
      },
      "execution_count": 39,
      "outputs": [
        {
          "output_type": "stream",
          "name": "stdout",
          "text": [
            "[1033.33333333]\n"
          ]
        }
      ]
    },
    {
      "cell_type": "code",
      "source": [
        "print(knr.predict([[500]]))"
      ],
      "metadata": {
        "colab": {
          "base_uri": "https://localhost:8080/"
        },
        "id": "fQ5o7evF20Tr",
        "outputId": "1c37ba2d-d33a-4c6e-a3f9-301584610606"
      },
      "execution_count": 40,
      "outputs": [
        {
          "output_type": "stream",
          "name": "stdout",
          "text": [
            "[1033.33333333]\n"
          ]
        }
      ]
    },
    {
      "cell_type": "code",
      "source": [
        "import matplotlib.pyplot as plt \n",
        "\n",
        "# 50cm  농어의 이웃을 구해보자!\n",
        "distances, indexes = knr.kneighbors([[100]]) \n",
        "\n",
        "# 산점도를 그려본다\n",
        "fig, ax = plt.subplots(figsize=(10, 6))\n",
        "\n",
        "ax.scatter(train_input, train_target)\n",
        "ax.scatter(train_input[indexes], train_target[indexes], marker = 'D')\n",
        "\n",
        "# 50cm 농어 데이터\n",
        "ax.scatter(100, 1033, marker='^')\n",
        "\n",
        "plt.show()"
      ],
      "metadata": {
        "colab": {
          "base_uri": "https://localhost:8080/",
          "height": 374
        },
        "id": "XIxZEd8a3sty",
        "outputId": "ec41922f-5612-43bc-8d7e-a0acc0aa0e36"
      },
      "execution_count": 50,
      "outputs": [
        {
          "output_type": "display_data",
          "data": {
            "text/plain": [
              "<Figure size 720x432 with 1 Axes>"
            ],
            "image/png": "[encoded data removed]"
          },
          "metadata": {
            "needs_background": "light"
          }
        }
      ]
    },
    {
      "cell_type": "markdown",
      "source": [
        "## 선형회귀\n",
        "- 직선을 긋는다! \n",
        "  + 주어진 데이터 분포에서 가장 적은 오차를 표현할 수 있는 직선을 긋는다. "
      ],
      "metadata": {
        "id": "lEJGsknE5iHJ"
      }
    },
    {
      "cell_type": "code",
      "source": [
        "import matplotlib.pyplot as plt \n",
        "\n",
        "# 50cm  농어의 이웃을 구해보자!\n",
        "distances, indexes = knr.kneighbors([[100]]) \n",
        "\n",
        "# 산점도를 그려본다\n",
        "fig, ax = plt.subplots(figsize=(10, 6))\n",
        "\n",
        "ax.scatter(train_input, train_target)\n",
        "ax.scatter(train_input[indexes], train_target[indexes], marker = 'D')\n",
        "\n",
        "plt.show()"
      ],
      "metadata": {
        "colab": {
          "base_uri": "https://localhost:8080/",
          "height": 374
        },
        "id": "Q66AeW7B5wDg",
        "outputId": "2d9d6885-2c07-49a8-cafa-f63f2cee6602"
      },
      "execution_count": 51,
      "outputs": [
        {
          "output_type": "display_data",
          "data": {
            "text/plain": [
              "<Figure size 720x432 with 1 Axes>"
            ],
            "image/png": "[encoded data removed]"
          },
          "metadata": {
            "needs_background": "light"
          }
        }
      ]
    },
    {
      "cell_type": "markdown",
      "source": [
        "주어진 데이터 분포에서 가장 적은 오차를 표현할 수 있는 직선을 긋는다."
      ],
      "metadata": {
        "id": "_cVknyit52q6"
      }
    },
    {
      "cell_type": "code",
      "source": [
        "from sklearn.linear_model import LinearRegression\n",
        "lr = LinearRegression()\n",
        "\n",
        "# 선형 회귀 모델을 훈련한다. \n",
        "lr.fit(train_input, train_target)\n",
        "\n",
        "print(lr.predict([[50]]))"
      ],
      "metadata": {
        "colab": {
          "base_uri": "https://localhost:8080/"
        },
        "id": "GeAEu3_452NU",
        "outputId": "c26a987d-3006-4740-ae9e-8b72185352e0"
      },
      "execution_count": 52,
      "outputs": [
        {
          "output_type": "stream",
          "name": "stdout",
          "text": [
            "[1241.83860323]\n"
          ]
        }
      ]
    },
    {
      "cell_type": "code",
      "source": [
        "import matplotlib.pyplot as plt \n",
        "\n",
        "# 산점도를 그려본다\n",
        "fig, ax = plt.subplots(figsize=(10, 6))\n",
        "ax.scatter(train_input, train_target)\n",
        "\n",
        "# 50cm 농어 데이터\n",
        "ax.scatter(50, 1231, marker='^')\n",
        "\n",
        "plt.show()"
      ],
      "metadata": {
        "colab": {
          "base_uri": "https://localhost:8080/",
          "height": 374
        },
        "id": "Vph64fOZ6reg",
        "outputId": "607fa146-b1cb-4ab2-9162-b7cf5b909c30"
      },
      "execution_count": 55,
      "outputs": [
        {
          "output_type": "display_data",
          "data": {
            "text/plain": [
              "<Figure size 720x432 with 1 Axes>"
            ],
            "image/png": "[encoded data removed]"
          },
          "metadata": {
            "needs_background": "light"
          }
        }
      ]
    },
    {
      "cell_type": "markdown",
      "source": [
        "- y = ax + b\n",
        "  + a = 기울기\n",
        "  + b = 상수"
      ],
      "metadata": {
        "id": "AWBSUqPI8cnj"
      }
    },
    {
      "cell_type": "code",
      "source": [
        "      # 기울기  # 상수\n",
        "      # 계수    # 절편\n",
        "      # 가중치\n",
        "print(lr.coef_, lr.intercept_)"
      ],
      "metadata": {
        "colab": {
          "base_uri": "https://localhost:8080/"
        },
        "id": "zDiYd6Ze8tNP",
        "outputId": "3c4edfc8-8c4f-40aa-ba71-370a2cbf362f"
      },
      "execution_count": 56,
      "outputs": [
        {
          "output_type": "stream",
          "name": "stdout",
          "text": [
            "[39.01714496] -709.0186449535477\n"
          ]
        }
      ]
    },
    {
      "cell_type": "code",
      "source": [
        "import matplotlib.pyplot as plt \n",
        "\n",
        "# 산점도를 그려본다\n",
        "fig, ax = plt.subplots(figsize=(10, 6))\n",
        "ax.scatter(train_input, train_target)\n",
        "\n",
        "# 50cm 농어 데이터\n",
        "ax.scatter(50, 1231, marker='^')\n",
        "\n",
        "# 기울기와 상수를 활용한 \n",
        "                  # x * 기울기 + 상수\n",
        "ax.plot([15, 50], [15 * lr.coef_ + lr.intercept_, 50 * lr.coef_ + lr.intercept_])\n",
        "\n",
        "plt.show()"
      ],
      "metadata": {
        "colab": {
          "base_uri": "https://localhost:8080/",
          "height": 374
        },
        "id": "q-EL_pPx9Dcc",
        "outputId": "b891c75e-b4f3-408c-9df9-6e5cd32682f1"
      },
      "execution_count": 57,
      "outputs": [
        {
          "output_type": "display_data",
          "data": {
            "text/plain": [
              "<Figure size 720x432 with 1 Axes>"
            ],
            "image/png": "[encoded data removed]"
          },
          "metadata": {
            "needs_background": "light"
          }
        }
      ]
    }
  ]
}
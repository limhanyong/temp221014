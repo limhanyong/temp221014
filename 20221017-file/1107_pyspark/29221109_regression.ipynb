{
 "cells": [
  {
   "cell_type": "code",
   "execution_count": 3,
   "id": "61831a6b",
   "metadata": {},
   "outputs": [
    {
     "data": {
      "text/html": [
       "\n",
       "            <div>\n",
       "                <p><b>SparkSession - hive</b></p>\n",
       "                \n",
       "        <div>\n",
       "            <p><b>SparkContext</b></p>\n",
       "\n",
       "            <p><a href=\"http://172.29.166.226:4043\">Spark UI</a></p>\n",
       "\n",
       "            <dl>\n",
       "              <dt>Version</dt>\n",
       "                <dd><code>v3.2.0</code></dd>\n",
       "              <dt>Master</dt>\n",
       "                <dd><code>local[*]</code></dd>\n",
       "              <dt>AppName</dt>\n",
       "                <dd><code>PySparkShell</code></dd>\n",
       "            </dl>\n",
       "        </div>\n",
       "        \n",
       "            </div>\n",
       "        "
      ],
      "text/plain": [
       "<pyspark.sql.session.SparkSession at 0x7f3de5a8db50>"
      ]
     },
     "execution_count": 3,
     "metadata": {},
     "output_type": "execute_result"
    }
   ],
   "source": [
    "from pyspark.sql import SparkSession \n",
    "spark = SparkSession.builder.master('local[*]').appName('ml').getOrCreate()\n",
    "spark"
   ]
  },
  {
   "cell_type": "code",
   "execution_count": 10,
   "id": "463f1ee8",
   "metadata": {
    "scrolled": true
   },
   "outputs": [
    {
     "name": "stdout",
     "output_type": "stream",
     "text": [
      "1.23.4\n"
     ]
    }
   ],
   "source": [
    "import numpy as np\n",
    "import pandas as pd \n",
    "import matplotlib as mpl\n",
    "import seaborn as sns \n",
    "import matplotlib.pyplot as plt\n",
    "\n",
    "print(np.__version__)"
   ]
  },
  {
   "cell_type": "markdown",
   "id": "1a92cbbf",
   "metadata": {},
   "source": [
    "## 데이터 불러오기"
   ]
  },
  {
   "cell_type": "code",
   "execution_count": 11,
   "id": "1b91cffb",
   "metadata": {},
   "outputs": [
    {
     "name": "stdout",
     "output_type": "stream",
     "text": [
      "+---+---+---+-------+------+---+----+------+--------+-----+\n",
      "|mon|dom|dow|carrier|flight|org|mile|depart|duration|delay|\n",
      "+---+---+---+-------+------+---+----+------+--------+-----+\n",
      "| 11| 20|  6|     US|    19|JFK|2153|  9.48|     351| null|\n",
      "|  0| 22|  2|     UA|  1107|ORD| 316| 16.33|      82|   30|\n",
      "|  2| 20|  4|     UA|   226|SFO| 337|  6.17|      82|   -8|\n",
      "|  9| 13|  1|     AA|   419|ORD|1236| 10.33|     195|   -5|\n",
      "|  4|  2|  5|     AA|   325|ORD| 258|  8.92|      65| null|\n",
      "+---+---+---+-------+------+---+----+------+--------+-----+\n",
      "only showing top 5 rows\n",
      "\n"
     ]
    }
   ],
   "source": [
    "flights = spark.read.csv('data/flights.csv', \n",
    "                         sep=',', \n",
    "                         header=True, \n",
    "                         inferSchema=True, \n",
    "                         nullValue = 'NA')\n",
    "\n",
    "flights.show(5)"
   ]
  },
  {
   "cell_type": "markdown",
   "id": "f17304e2",
   "metadata": {},
   "source": [
    "## 머신러닝 주제\n",
    "- 지연시간 예측\n",
    "    - 종속변수 : delay\n",
    "- 데이터의  행/열의 갯수\n"
   ]
  },
  {
   "cell_type": "code",
   "execution_count": 12,
   "id": "c519af77",
   "metadata": {},
   "outputs": [
    {
     "data": {
      "text/plain": [
       "50000"
      ]
     },
     "execution_count": 12,
     "metadata": {},
     "output_type": "execute_result"
    }
   ],
   "source": [
    "flights.count()"
   ]
  },
  {
   "cell_type": "code",
   "execution_count": 13,
   "id": "8728720f",
   "metadata": {},
   "outputs": [
    {
     "data": {
      "text/plain": [
       "10"
      ]
     },
     "execution_count": 13,
     "metadata": {},
     "output_type": "execute_result"
    }
   ],
   "source": [
    "len(flights.columns)"
   ]
  },
  {
   "cell_type": "code",
   "execution_count": 14,
   "id": "1a4dcef1",
   "metadata": {},
   "outputs": [
    {
     "data": {
      "text/plain": [
       "[('mon', 'int'),\n",
       " ('dom', 'int'),\n",
       " ('dow', 'int'),\n",
       " ('carrier', 'string'),\n",
       " ('flight', 'int'),\n",
       " ('org', 'string'),\n",
       " ('mile', 'int'),\n",
       " ('depart', 'double'),\n",
       " ('duration', 'int'),\n",
       " ('delay', 'int')]"
      ]
     },
     "execution_count": 14,
     "metadata": {},
     "output_type": "execute_result"
    }
   ],
   "source": [
    "flights.dtypes"
   ]
  },
  {
   "cell_type": "markdown",
   "id": "f7f75600",
   "metadata": {},
   "source": [
    "## 데이터 전처리 & 피쳐엔지니어링\n",
    "\n",
    "- flight 컬럼 삭제"
   ]
  },
  {
   "cell_type": "code",
   "execution_count": 15,
   "id": "a2d328d1",
   "metadata": {},
   "outputs": [
    {
     "data": {
      "text/plain": [
       "9"
      ]
     },
     "execution_count": 15,
     "metadata": {},
     "output_type": "execute_result"
    }
   ],
   "source": [
    "flights2 = flights.drop('flight')\n",
    "len(flights2.columns)"
   ]
  },
  {
   "cell_type": "code",
   "execution_count": 16,
   "id": "4408ce5f",
   "metadata": {},
   "outputs": [
    {
     "data": {
      "text/plain": [
       "2978"
      ]
     },
     "execution_count": 16,
     "metadata": {},
     "output_type": "execute_result"
    }
   ],
   "source": [
    "flights2.filter('delay IS NULL').count()"
   ]
  },
  {
   "cell_type": "markdown",
   "id": "b5da70fa",
   "metadata": {},
   "source": [
    "- NA 결측치 삭제\n"
   ]
  },
  {
   "cell_type": "code",
   "execution_count": 17,
   "id": "6d55e1d0",
   "metadata": {},
   "outputs": [
    {
     "data": {
      "text/plain": [
       "47022"
      ]
     },
     "execution_count": 17,
     "metadata": {},
     "output_type": "execute_result"
    }
   ],
   "source": [
    "flights3 = flights2.filter('delay IS NOT NULL')\n",
    "flights3.count()"
   ]
  },
  {
   "cell_type": "code",
   "execution_count": 18,
   "id": "4646019b",
   "metadata": {},
   "outputs": [
    {
     "data": {
      "text/plain": [
       "47022"
      ]
     },
     "execution_count": 18,
     "metadata": {},
     "output_type": "execute_result"
    }
   ],
   "source": [
    "flights4 = flights3.dropna()\n",
    "flights4.count()"
   ]
  },
  {
   "cell_type": "markdown",
   "id": "89adc5de",
   "metadata": {},
   "source": [
    "- NA 채우기"
   ]
  },
  {
   "cell_type": "code",
   "execution_count": 19,
   "id": "f0d7f742",
   "metadata": {},
   "outputs": [
    {
     "name": "stdout",
     "output_type": "stream",
     "text": [
      "+---+---+---+-------+---+----+------+--------+-----+\n",
      "|mon|dom|dow|carrier|org|mile|depart|duration|delay|\n",
      "+---+---+---+-------+---+----+------+--------+-----+\n",
      "| 11| 20|  6|     US|JFK|2153|  9.48|     351|    0|\n",
      "|  0| 22|  2|     UA|ORD| 316| 16.33|      82|   30|\n",
      "|  2| 20|  4|     UA|SFO| 337|  6.17|      82|   -8|\n",
      "|  9| 13|  1|     AA|ORD|1236| 10.33|     195|   -5|\n",
      "|  4|  2|  5|     AA|ORD| 258|  8.92|      65|    0|\n",
      "+---+---+---+-------+---+----+------+--------+-----+\n",
      "only showing top 5 rows\n",
      "\n"
     ]
    }
   ],
   "source": [
    "flights5 = flights2.fillna({'delay' : 0 })\n",
    "flights5.show(5)"
   ]
  },
  {
   "cell_type": "code",
   "execution_count": 20,
   "id": "868eb296",
   "metadata": {
    "scrolled": true
   },
   "outputs": [
    {
     "data": {
      "text/plain": [
       "50000"
      ]
     },
     "execution_count": 20,
     "metadata": {},
     "output_type": "execute_result"
    }
   ],
   "source": [
    "flights5.count()"
   ]
  },
  {
   "cell_type": "markdown",
   "id": "5c7cc051",
   "metadata": {},
   "source": [
    "## 파생변수\n",
    "- withColumn() 활용해서 새로운 변수를 추가할 것\n",
    "\n",
    "    - 참조 : https://spark.apache.org/docs/3.1.3/api/python/reference/api/pyspark.sql.DataFrame.withColumn.html"
   ]
  },
  {
   "cell_type": "code",
   "execution_count": 21,
   "id": "131a9ccf",
   "metadata": {},
   "outputs": [],
   "source": [
    "from pyspark.sql.functions import round\n",
    "flights5 = flights5.withColumn('km', round(flights5.mile * 1.60934, 0)).drop()"
   ]
  },
  {
   "cell_type": "code",
   "execution_count": 22,
   "id": "696a6986",
   "metadata": {},
   "outputs": [
    {
     "name": "stdout",
     "output_type": "stream",
     "text": [
      "+---+---+---+-------+---+----+------+--------+-----+------+-----+\n",
      "|mon|dom|dow|carrier|org|mile|depart|duration|delay|    km|label|\n",
      "+---+---+---+-------+---+----+------+--------+-----+------+-----+\n",
      "| 11| 20|  6|     US|JFK|2153|  9.48|     351|    0|3465.0|    0|\n",
      "|  0| 22|  2|     UA|ORD| 316| 16.33|      82|   30| 509.0|    1|\n",
      "|  2| 20|  4|     UA|SFO| 337|  6.17|      82|   -8| 542.0|    0|\n",
      "|  9| 13|  1|     AA|ORD|1236| 10.33|     195|   -5|1989.0|    0|\n",
      "|  4|  2|  5|     AA|ORD| 258|  8.92|      65|    0| 415.0|    0|\n",
      "+---+---+---+-------+---+----+------+--------+-----+------+-----+\n",
      "only showing top 5 rows\n",
      "\n"
     ]
    }
   ],
   "source": [
    "# delay 15 이상\n",
    "flights5 = flights5.withColumn('label', (flights5.delay >= 15).cast('integer'))\n",
    "flights5.show(5)"
   ]
  },
  {
   "cell_type": "markdown",
   "id": "5ce3e27b",
   "metadata": {},
   "source": [
    "- 라벨인코딩 = 원핫인코딩\n",
    "     + 참조 : https://spark.apache.org/docs/3.1.3/api/python/reference/api/pyspark.ml.feature.StringIndexer.html?highlight=stringindexer#pyspark.ml.feature.StringIndexer"
   ]
  },
  {
   "cell_type": "code",
   "execution_count": 23,
   "id": "5815b758",
   "metadata": {},
   "outputs": [
    {
     "name": "stdout",
     "output_type": "stream",
     "text": [
      "+---+---+---+-------+---+----+------+--------+-----+------+-----+-------------+\n",
      "|mon|dom|dow|carrier|org|mile|depart|duration|delay|    km|label|carrier_index|\n",
      "+---+---+---+-------+---+----+------+--------+-----+------+-----+-------------+\n",
      "| 11| 20|  6|     US|JFK|2153|  9.48|     351|    0|3465.0|    0|          6.0|\n",
      "|  0| 22|  2|     UA|ORD| 316| 16.33|      82|   30| 509.0|    1|          0.0|\n",
      "|  2| 20|  4|     UA|SFO| 337|  6.17|      82|   -8| 542.0|    0|          0.0|\n",
      "|  9| 13|  1|     AA|ORD|1236| 10.33|     195|   -5|1989.0|    0|          1.0|\n",
      "|  4|  2|  5|     AA|ORD| 258|  8.92|      65|    0| 415.0|    0|          1.0|\n",
      "+---+---+---+-------+---+----+------+--------+-----+------+-----+-------------+\n",
      "only showing top 5 rows\n",
      "\n"
     ]
    }
   ],
   "source": [
    "from pyspark.ml.feature import StringIndexer\n",
    "\n",
    "indexer = StringIndexer(inputCol = 'carrier', outputCol = 'carrier_index')\n",
    "indexer_model = indexer.fit(flights5)\n",
    "flights6 = indexer_model.transform(flights5)\n",
    "flights6.show(5)"
   ]
  },
  {
   "cell_type": "code",
   "execution_count": 24,
   "id": "9b954943",
   "metadata": {},
   "outputs": [
    {
     "name": "stdout",
     "output_type": "stream",
     "text": [
      "+---+---+---+-------+---+----+------+--------+-----+------+-----+-------------+---------+\n",
      "|mon|dom|dow|carrier|org|mile|depart|duration|delay|    km|label|carrier_index|org_index|\n",
      "+---+---+---+-------+---+----+------+--------+-----+------+-----+-------------+---------+\n",
      "| 11| 20|  6|     US|JFK|2153|  9.48|     351|    0|3465.0|    0|          6.0|      2.0|\n",
      "|  0| 22|  2|     UA|ORD| 316| 16.33|      82|   30| 509.0|    1|          0.0|      0.0|\n",
      "|  2| 20|  4|     UA|SFO| 337|  6.17|      82|   -8| 542.0|    0|          0.0|      1.0|\n",
      "|  9| 13|  1|     AA|ORD|1236| 10.33|     195|   -5|1989.0|    0|          1.0|      0.0|\n",
      "|  4|  2|  5|     AA|ORD| 258|  8.92|      65|    0| 415.0|    0|          1.0|      0.0|\n",
      "+---+---+---+-------+---+----+------+--------+-----+------+-----+-------------+---------+\n",
      "only showing top 5 rows\n",
      "\n"
     ]
    }
   ],
   "source": [
    "indexer = StringIndexer(inputCol = 'org', outputCol = 'org_index')\n",
    "indexer_model = indexer.fit(flights6)\n",
    "flights7 = indexer_model.transform(flights6)\n",
    "flights7.show(5)"
   ]
  },
  {
   "cell_type": "code",
   "execution_count": 25,
   "id": "e86427fd",
   "metadata": {},
   "outputs": [
    {
     "name": "stdout",
     "output_type": "stream",
     "text": [
      "+---+---------+\n",
      "|org|org_index|\n",
      "+---+---------+\n",
      "|JFK|      2.0|\n",
      "|ORD|      0.0|\n",
      "|SFO|      1.0|\n",
      "|ORD|      0.0|\n",
      "|ORD|      0.0|\n",
      "+---+---------+\n",
      "only showing top 5 rows\n",
      "\n"
     ]
    }
   ],
   "source": [
    "indexer = StringIndexer(inputCol = 'org', outputCol = 'org_index')\n",
    "indexer_model = indexer.fit(flights6)\n",
    "flights7 = indexer_model.transform(flights6)\n",
    "flights7.select('org', 'org_index').show(5)"
   ]
  },
  {
   "cell_type": "markdown",
   "id": "9ab66953",
   "metadata": {},
   "source": [
    "- 원핫인코딩"
   ]
  },
  {
   "cell_type": "code",
   "execution_count": 26,
   "id": "d21a9f7e",
   "metadata": {},
   "outputs": [
    {
     "name": "stdout",
     "output_type": "stream",
     "text": [
      "+---+---+---+-------+---+----+------+--------+-----+------+-----+-------------+---------+-------------+\n",
      "|mon|dom|dow|carrier|org|mile|depart|duration|delay|    km|label|carrier_index|org_index|    org_dummy|\n",
      "+---+---+---+-------+---+----+------+--------+-----+------+-----+-------------+---------+-------------+\n",
      "| 11| 20|  6|     US|JFK|2153|  9.48|     351|    0|3465.0|    0|          6.0|      2.0|(7,[2],[1.0])|\n",
      "|  0| 22|  2|     UA|ORD| 316| 16.33|      82|   30| 509.0|    1|          0.0|      0.0|(7,[0],[1.0])|\n",
      "|  2| 20|  4|     UA|SFO| 337|  6.17|      82|   -8| 542.0|    0|          0.0|      1.0|(7,[1],[1.0])|\n",
      "|  9| 13|  1|     AA|ORD|1236| 10.33|     195|   -5|1989.0|    0|          1.0|      0.0|(7,[0],[1.0])|\n",
      "|  4|  2|  5|     AA|ORD| 258|  8.92|      65|    0| 415.0|    0|          1.0|      0.0|(7,[0],[1.0])|\n",
      "+---+---+---+-------+---+----+------+--------+-----+------+-----+-------------+---------+-------------+\n",
      "only showing top 5 rows\n",
      "\n"
     ]
    }
   ],
   "source": [
    "from pyspark.ml.feature import OneHotEncoder\n",
    "\n",
    "onehot = OneHotEncoder(inputCols=['org_index'], outputCols = ['org_dummy'])\n",
    "onehot = onehot.fit(flights7)\n",
    "flights8 = onehot.transform(flights7)\n",
    "flights8.show(5)"
   ]
  },
  {
   "cell_type": "code",
   "execution_count": 27,
   "id": "1a28dbdf",
   "metadata": {},
   "outputs": [
    {
     "name": "stdout",
     "output_type": "stream",
     "text": [
      "+---+---------+-------------+\n",
      "|org|org_index|    org_dummy|\n",
      "+---+---------+-------------+\n",
      "|ORD|      0.0|(7,[0],[1.0])|\n",
      "|SFO|      1.0|(7,[1],[1.0])|\n",
      "|JFK|      2.0|(7,[2],[1.0])|\n",
      "|LGA|      3.0|(7,[3],[1.0])|\n",
      "|SJC|      4.0|(7,[4],[1.0])|\n",
      "|SMF|      5.0|(7,[5],[1.0])|\n",
      "|TUS|      6.0|(7,[6],[1.0])|\n",
      "|OGG|      7.0|    (7,[],[])|\n",
      "+---+---------+-------------+\n",
      "\n"
     ]
    }
   ],
   "source": [
    "flights8.select('org', 'org_index', 'org_dummy').distinct().sort('org_index').show()"
   ]
  },
  {
   "cell_type": "markdown",
   "id": "8b32d74e",
   "metadata": {},
   "source": [
    "## 벡터화\n",
    "- DataFrame에서 바로 ML 인풋 데이터로 들어가는게 아님"
   ]
  },
  {
   "cell_type": "code",
   "execution_count": 28,
   "id": "b61e7a3d",
   "metadata": {},
   "outputs": [],
   "source": [
    "from pyspark.ml.feature import VectorAssembler \n",
    "\n",
    "assembler = VectorAssembler(inputCols = [\n",
    "    'mon', 'dom', 'dow', 'carrier_index', 'org_index', 'km', 'depart', 'duration'\n",
    "], outputCol='features')\n",
    "\n",
    "flights9 = assembler.transform(flights8)"
   ]
  },
  {
   "cell_type": "code",
   "execution_count": 29,
   "id": "78101219",
   "metadata": {},
   "outputs": [
    {
     "name": "stdout",
     "output_type": "stream",
     "text": [
      "+-----------------------------------------+-----+\n",
      "|features                                 |delay|\n",
      "+-----------------------------------------+-----+\n",
      "|[11.0,20.0,6.0,6.0,2.0,3465.0,9.48,351.0]|0    |\n",
      "|[0.0,22.0,2.0,0.0,0.0,509.0,16.33,82.0]  |30   |\n",
      "|[2.0,20.0,4.0,0.0,1.0,542.0,6.17,82.0]   |-8   |\n",
      "|[9.0,13.0,1.0,1.0,0.0,1989.0,10.33,195.0]|-5   |\n",
      "|[4.0,2.0,5.0,1.0,0.0,415.0,8.92,65.0]    |0    |\n",
      "+-----------------------------------------+-----+\n",
      "only showing top 5 rows\n",
      "\n"
     ]
    }
   ],
   "source": [
    "flights9.select('features', 'delay').show(5, truncate=False)"
   ]
  },
  {
   "cell_type": "markdown",
   "id": "279f219d",
   "metadata": {},
   "source": [
    "## 데이터셋 분리"
   ]
  },
  {
   "cell_type": "code",
   "execution_count": 30,
   "id": "46738d80",
   "metadata": {
    "scrolled": true
   },
   "outputs": [
    {
     "name": "stderr",
     "output_type": "stream",
     "text": [
      "[Stage 43:>                                                         (0 + 1) / 1]\r"
     ]
    },
    {
     "name": "stdout",
     "output_type": "stream",
     "text": [
      "0.79896\n"
     ]
    },
    {
     "name": "stderr",
     "output_type": "stream",
     "text": [
      "                                                                                \r"
     ]
    }
   ],
   "source": [
    "flights_train, flights_test = flights9.randomSplit([0.8, 0.2], seed=42)\n",
    "\n",
    "training_ratio = flights_train.count() / flights.count()\n",
    "print(training_ratio)"
   ]
  },
  {
   "cell_type": "markdown",
   "id": "890779f2",
   "metadata": {},
   "source": [
    "## 모형 만들기"
   ]
  },
  {
   "cell_type": "code",
   "execution_count": 31,
   "id": "ff3c6523",
   "metadata": {},
   "outputs": [
    {
     "name": "stderr",
     "output_type": "stream",
     "text": [
      "22/11/09 17:15:56 WARN Instrumentation: [e8204894] regParam is zero, which might cause numerical instability and overfitting.\n",
      "22/11/09 17:15:56 WARN InstanceBuilder$NativeBLAS: Failed to load implementation from:dev.ludovic.netlib.blas.JNIBLAS\n",
      "22/11/09 17:15:56 WARN InstanceBuilder$NativeBLAS: Failed to load implementation from:dev.ludovic.netlib.blas.ForeignLinkerBLAS\n",
      "22/11/09 17:15:57 WARN InstanceBuilder$NativeLAPACK: Failed to load implementation from:dev.ludovic.netlib.lapack.JNILAPACK\n",
      "                                                                                \r"
     ]
    },
    {
     "name": "stdout",
     "output_type": "stream",
     "text": [
      "+-----+-------------------+\n",
      "|delay|         prediction|\n",
      "+-----+-------------------+\n",
      "|  -10|  46.44172758075316|\n",
      "|   31|  43.08452860448893|\n",
      "|   27| 26.645250841637072|\n",
      "|    0| 30.119520678129255|\n",
      "|    0|   32.3656110413515|\n",
      "|   52|  37.92820472413967|\n",
      "|   49| 40.784914918196485|\n",
      "|    0|  41.32610178968795|\n",
      "|    3| 24.486999739505862|\n",
      "|   75| 15.438377151597322|\n",
      "|   -2|-3.0701133483485066|\n",
      "|   43| 14.482980426030544|\n",
      "|   13| 17.433399086903275|\n",
      "|   52|  44.74621504450882|\n",
      "|  -16| 30.293989187510093|\n",
      "|  105| 41.091833410842945|\n",
      "|    0|  40.04794188385882|\n",
      "|   15| 42.262008799901245|\n",
      "|   68| 35.611259712749096|\n",
      "|   22|  48.56648168729614|\n",
      "+-----+-------------------+\n",
      "only showing top 20 rows\n",
      "\n"
     ]
    }
   ],
   "source": [
    "from pyspark.ml.regression import LinearRegression\n",
    "lr_model = LinearRegression(labelCol = 'delay').fit(flights_train)\n",
    "\n",
    "predictions = lr_model.transform(flights_test)\n",
    "predictions.select('delay', 'prediction').show()"
   ]
  },
  {
   "cell_type": "code",
   "execution_count": 33,
   "id": "1720bdce",
   "metadata": {},
   "outputs": [
    {
     "name": "stderr",
     "output_type": "stream",
     "text": [
      "                                                                                \r"
     ]
    },
    {
     "data": {
      "text/plain": [
       "52.077460751193215"
      ]
     },
     "execution_count": 33,
     "metadata": {},
     "output_type": "execute_result"
    }
   ],
   "source": [
    "# RMSE \n",
    "from pyspark.ml.evaluation import RegressionEvaluator \n",
    "RegressionEvaluator(labelCol = 'delay').evaluate(predictions)"
   ]
  },
  {
   "cell_type": "code",
   "execution_count": 34,
   "id": "2a2bce72",
   "metadata": {},
   "outputs": [
    {
     "data": {
      "text/plain": [
       "5.820634238570484"
      ]
     },
     "execution_count": 34,
     "metadata": {},
     "output_type": "execute_result"
    }
   ],
   "source": [
    "lr_model.intercept"
   ]
  },
  {
   "cell_type": "code",
   "execution_count": 35,
   "id": "e536439a",
   "metadata": {},
   "outputs": [
    {
     "data": {
      "text/plain": [
       "DenseVector([-0.962, -0.0401, -0.1964, -1.0083, -2.2957, -0.0091, 1.7483, 0.1401])"
      ]
     },
     "execution_count": 35,
     "metadata": {},
     "output_type": "execute_result"
    }
   ],
   "source": [
    "lr_model.coefficients"
   ]
  },
  {
   "cell_type": "markdown",
   "id": "74f40789",
   "metadata": {},
   "source": [
    "시각화\n",
    "- pandas로 변환 / seaborn & matplotlib"
   ]
  }
 ],
 "metadata": {
  "kernelspec": {
   "display_name": "Python 3 (ipykernel)",
   "language": "python",
   "name": "python3"
  },
  "language_info": {
   "codemirror_mode": {
    "name": "ipython",
    "version": 3
   },
   "file_extension": ".py",
   "mimetype": "text/x-python",
   "name": "python",
   "nbconvert_exporter": "python",
   "pygments_lexer": "ipython3",
   "version": "3.8.0"
  }
 },
 "nbformat": 4,
 "nbformat_minor": 5
}

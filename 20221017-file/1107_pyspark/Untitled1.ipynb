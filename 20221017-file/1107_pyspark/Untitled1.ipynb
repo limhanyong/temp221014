{
 "cells": [
  {
   "cell_type": "code",
   "execution_count": 2,
   "id": "0e861394",
   "metadata": {},
   "outputs": [
    {
     "name": "stdout",
     "output_type": "stream",
     "text": [
      "1.23.4\n",
      "1.5.1\n",
      "3.6.2\n",
      "0.12.1\n",
      "1.1.3\n",
      "3.2.0\n"
     ]
    }
   ],
   "source": [
    "import numpy as np \n",
    "import pandas as pd \n",
    "import matplotlib\n",
    "import matplotlib.pyplot as plt \n",
    "import seaborn as sns\n",
    "import sklearn\n",
    "import pyspark \n",
    "\n",
    "print(np.__version__)\n",
    "print(pd.__version__)\n",
    "print(matplotlib.__version__)\n",
    "print(sns.__version__)\n",
    "print(sklearn.__version__)\n",
    "print(pyspark.__version__)"
   ]
  },
  {
   "cell_type": "markdown",
   "id": "5db9e701",
   "metadata": {},
   "source": [
    "## RDD의 작동원리\n",
    "- 데이터 --> Transformation 메서드 활용 (lambda 함수 활용) --> Action 메서드 활용"
   ]
  },
  {
   "cell_type": "markdown",
   "id": "a8e60c91",
   "metadata": {},
   "source": [
    "## Spark 세션 만들기 (평가 1)\n",
    "- master : \"local[1]\" \n",
    "- appName : my1stSpark "
   ]
  },
  {
   "cell_type": "code",
   "execution_count": 3,
   "id": "a1f24fef",
   "metadata": {},
   "outputs": [
    {
     "data": {
      "text/html": [
       "\n",
       "            <div>\n",
       "                <p><b>SparkSession - hive</b></p>\n",
       "                \n",
       "        <div>\n",
       "            <p><b>SparkContext</b></p>\n",
       "\n",
       "            <p><a href=\"http://172.29.160.243:4041\">Spark UI</a></p>\n",
       "\n",
       "            <dl>\n",
       "              <dt>Version</dt>\n",
       "                <dd><code>v3.2.0</code></dd>\n",
       "              <dt>Master</dt>\n",
       "                <dd><code>local[*]</code></dd>\n",
       "              <dt>AppName</dt>\n",
       "                <dd><code>PySparkShell</code></dd>\n",
       "            </dl>\n",
       "        </div>\n",
       "        \n",
       "            </div>\n",
       "        "
      ],
      "text/plain": [
       "<pyspark.sql.session.SparkSession at 0x7ff7f78bc340>"
      ]
     },
     "execution_count": 3,
     "metadata": {},
     "output_type": "execute_result"
    }
   ],
   "source": [
    "from pyspark.sql import SparkSession\n",
    "spark = SparkSession.builder.master(\"local[1]\").appName(\"my1stSpark\").getOrCreate()\n",
    "spark"
   ]
  },
  {
   "cell_type": "markdown",
   "id": "1dd216ec",
   "metadata": {},
   "source": [
    "코드셀에서 마크다운으로 변환하는 단축키 ESC + M"
   ]
  },
  {
   "cell_type": "markdown",
   "id": "e97b3f87",
   "metadata": {},
   "source": [
    "## RDD의 작동원리\n",
    "- 데이터 --> Transformation 메서드 활용 (lambda 함수 활용) --> Action 메서드 활용\n",
    "- PairRDD : 값이 Dictionary + 튜플처럼 저장됨"
   ]
  },
  {
   "cell_type": "code",
   "execution_count": 4,
   "id": "c449793e",
   "metadata": {},
   "outputs": [
    {
     "data": {
      "text/plain": [
       "['A', 'B', 'C']"
      ]
     },
     "execution_count": 4,
     "metadata": {},
     "output_type": "execute_result"
    }
   ],
   "source": [
    "temp_dict = {\n",
    "    \"name\" : [\"A\", \"B\", \"C\"]\n",
    "}\n",
    "\n",
    "temp_dict[\"name\"]"
   ]
  },
  {
   "cell_type": "code",
   "execution_count": null,
   "id": "43aed32d",
   "metadata": {},
   "outputs": [],
   "source": [
    "regi_lan = spark.sparkContext.parallelize(data)\n",
    "print(regi_lan)\n",
    "print(type(regi_lan))\n",
    "\n",
    "# Action Method\n",
    "print(regi_lan.collect())"
   ]
  },
  {
   "cell_type": "code",
   "execution_count": 5,
   "id": "f54840b5",
   "metadata": {},
   "outputs": [
    {
     "data": {
      "text/plain": [
       "(1, 2, 3, 4)"
      ]
     },
     "execution_count": 5,
     "metadata": {},
     "output_type": "execute_result"
    }
   ],
   "source": [
    "temp_tuple = (1, 2, 3, 4)\n",
    "temp_tuple"
   ]
  },
  {
   "cell_type": "code",
   "execution_count": 6,
   "id": "e34cb5a4",
   "metadata": {},
   "outputs": [
    {
     "data": {
      "text/plain": [
       "[('python', 10),\n",
       " ('javascript', 5),\n",
       " ('JAVA', 20),\n",
       " ('python', 5),\n",
       " ('R', 5),\n",
       " ('JAVA', 10)]"
      ]
     },
     "execution_count": 6,
     "metadata": {},
     "output_type": "execute_result"
    }
   ],
   "source": [
    "# 프로그래밍 수강생 조사\n",
    "data = [('python', 10), ('javascript', 5), ('JAVA', 20), ('python', 5), ('R', 5), ('JAVA', 10)]\n",
    "data"
   ]
  },
  {
   "cell_type": "markdown",
   "id": "3e668e5a",
   "metadata": {},
   "source": [
    "## PairRDD 생성"
   ]
  },
  {
   "cell_type": "code",
   "execution_count": 7,
   "id": "bf8ad22e",
   "metadata": {},
   "outputs": [
    {
     "name": "stdout",
     "output_type": "stream",
     "text": [
      "ParallelCollectionRDD[0] at readRDDFromFile at PythonRDD.scala:274\n",
      "<class 'pyspark.rdd.RDD'>\n"
     ]
    },
    {
     "name": "stderr",
     "output_type": "stream",
     "text": [
      "[Stage 0:>                                                          (0 + 8) / 8]\r"
     ]
    },
    {
     "name": "stdout",
     "output_type": "stream",
     "text": [
      "[('python', 10), ('javascript', 5), ('JAVA', 20), ('python', 5), ('R', 5), ('JAVA', 10)]\n"
     ]
    },
    {
     "name": "stderr",
     "output_type": "stream",
     "text": [
      "                                                                                \r"
     ]
    }
   ],
   "source": [
    "regi_lan = spark.sparkContext.parallelize(data)\n",
    "print(regi_lan)\n",
    "print(type(regi_lan))\n",
    "\n",
    "# Action Method\n",
    "print(regi_lan.collect())"
   ]
  },
  {
   "cell_type": "markdown",
   "id": "6dcc66bc",
   "metadata": {},
   "source": [
    "## PairRDD 메서드 종류\n",
    "- (참고자료) https://spark.apache.org/docs/latest/rdd-programming-guide.html#rdd-operations\n",
    "\n",
    "\n",
    "\n",
    "## groupbyKey()\n",
    "- 참조 : ( https://spark.apache.org/docs/latest/api/python/reference/api/pyspark.RDD.groupByKey.html#pyspark.RDD.groupByKey  )\n",
    "\n",
    "\n",
    "\n"
   ]
  },
  {
   "cell_type": "code",
   "execution_count": 8,
   "id": "bb467821",
   "metadata": {},
   "outputs": [
    {
     "name": "stderr",
     "output_type": "stream",
     "text": [
      "[Stage 1:==============>                                            (2 + 6) / 8]\r"
     ]
    },
    {
     "name": "stdout",
     "output_type": "stream",
     "text": [
      "python --> [10, 5]\n",
      "R --> [5]\n",
      "javascript --> [5]\n",
      "JAVA --> [20, 10]\n"
     ]
    },
    {
     "name": "stderr",
     "output_type": "stream",
     "text": [
      "                                                                                \r"
     ]
    }
   ],
   "source": [
    "group_rdd = regi_lan.groupByKey().collect()\n",
    "for keys, values in group_rdd:\n",
    "    print(keys, \"-->\", list(values))"
   ]
  },
  {
   "cell_type": "code",
   "execution_count": 9,
   "id": "7bd90e6b",
   "metadata": {},
   "outputs": [
    {
     "data": {
      "text/plain": [
       "[('JAVA', 2), ('R', 1), ('javascript', 1), ('python', 2)]"
      ]
     },
     "execution_count": 9,
     "metadata": {},
     "output_type": "execute_result"
    }
   ],
   "source": [
    "sorted(regi_lan.groupByKey().mapValues(len).collect())"
   ]
  },
  {
   "cell_type": "code",
   "execution_count": 10,
   "id": "784c27f7",
   "metadata": {},
   "outputs": [
    {
     "data": {
      "text/plain": [
       "[('JAVA', [20, 10]), ('R', [5]), ('javascript', [5]), ('python', [10, 5])]"
      ]
     },
     "execution_count": 10,
     "metadata": {},
     "output_type": "execute_result"
    }
   ],
   "source": [
    "sorted(regi_lan.groupByKey().mapValues(list).collect())"
   ]
  },
  {
   "cell_type": "markdown",
   "id": "0909cb5b",
   "metadata": {},
   "source": [
    "##sortByKey()\n",
    "\n",
    "- 참조 : \n",
    "\n",
    "https://spark.apache.org/docs/latest/api/python/reference/api/pyspark.RDD.sortByKey.html?highlight=sortbykey"
   ]
  },
  {
   "cell_type": "code",
   "execution_count": 11,
   "id": "fcc6542b",
   "metadata": {},
   "outputs": [
    {
     "name": "stdout",
     "output_type": "stream",
     "text": [
      "[('JAVA', 20), ('JAVA', 10), ('R', 5), ('javascript', 5), ('python', 10), ('python', 5)]\n"
     ]
    }
   ],
   "source": [
    "print(regi_lan.sortByKey().collect())"
   ]
  },
  {
   "cell_type": "code",
   "execution_count": 12,
   "id": "b28ca3e4",
   "metadata": {},
   "outputs": [
    {
     "name": "stdout",
     "output_type": "stream",
     "text": [
      "[('python', 10), ('python', 5), ('javascript', 5), ('R', 5), ('JAVA', 20), ('JAVA', 10)]\n"
     ]
    }
   ],
   "source": [
    "print(regi_lan.sortByKey(ascending=False).collect())"
   ]
  },
  {
   "cell_type": "markdown",
   "id": "63fdceaa",
   "metadata": {},
   "source": [
    "## reduceByKey()\n",
    "- 사칙연산 \n",
    "- lambda 함수 사용 필요\n",
    "- 참조 : https://spark.apache.org/docs/latest/api/python/reference/api/pyspark.RDD.reduceByKey.html?highlight=reducebykey"
   ]
  },
  {
   "cell_type": "raw",
   "id": "72781b16",
   "metadata": {},
   "source": [
    "regi_lan.reduceByKey(lambda x1, x2 : x1 + x2).collect()"
   ]
  },
  {
   "cell_type": "code",
   "execution_count": 15,
   "id": "cd6645f3",
   "metadata": {},
   "outputs": [
    {
     "data": {
      "text/plain": [
       "[('python', 5), ('R', 5), ('javascript', 5), ('JAVA', 10)]"
      ]
     },
     "execution_count": 15,
     "metadata": {},
     "output_type": "execute_result"
    }
   ],
   "source": [
    "regi_lan.reduceByKey(lambda x1, x2 : x1 - x2).collect()"
   ]
  },
  {
   "cell_type": "code",
   "execution_count": 16,
   "id": "885c2f31",
   "metadata": {},
   "outputs": [
    {
     "data": {
      "text/plain": [
       "[('python', 50), ('R', 5), ('javascript', 5), ('JAVA', 200)]"
      ]
     },
     "execution_count": 16,
     "metadata": {},
     "output_type": "execute_result"
    }
   ],
   "source": [
    "regi_lan.reduceByKey(lambda x1, x2 : x1 * x2).collect()"
   ]
  },
  {
   "cell_type": "code",
   "execution_count": 17,
   "id": "d46ca348",
   "metadata": {},
   "outputs": [
    {
     "data": {
      "text/plain": [
       "[('python', 2.0), ('R', 5), ('javascript', 5), ('JAVA', 2.0)]"
      ]
     },
     "execution_count": 17,
     "metadata": {},
     "output_type": "execute_result"
    }
   ],
   "source": [
    "regi_lan.reduceByKey(lambda x1, x2 : x1 / x2).collect()"
   ]
  },
  {
   "cell_type": "code",
   "execution_count": 18,
   "id": "dc19e287",
   "metadata": {},
   "outputs": [
    {
     "data": {
      "text/plain": [
       "[('python', 15), ('R', 5), ('javascript', 5), ('JAVA', 30)]"
      ]
     },
     "execution_count": 18,
     "metadata": {},
     "output_type": "execute_result"
    }
   ],
   "source": [
    "regi_lan.reduceByKey(lambda x1, x2 : x1 + x2).collect()"
   ]
  },
  {
   "cell_type": "code",
   "execution_count": null,
   "id": "b23dbb70",
   "metadata": {},
   "outputs": [],
   "source": []
  }
 ],
 "metadata": {
  "kernelspec": {
   "display_name": "Python 3 (ipykernel)",
   "language": "python",
   "name": "python3"
  },
  "language_info": {
   "codemirror_mode": {
    "name": "ipython",
    "version": 3
   },
   "file_extension": ".py",
   "mimetype": "text/x-python",
   "name": "python",
   "nbconvert_exporter": "python",
   "pygments_lexer": "ipython3",
   "version": "3.8.0"
  }
 },
 "nbformat": 4,
 "nbformat_minor": 5
}
